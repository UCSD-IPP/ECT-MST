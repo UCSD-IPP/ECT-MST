{
 "cells": [
  {
   "cell_type": "markdown",
   "id": "bd09615f",
   "metadata": {},
   "source": [
    "# Clinical Symptom Analysis - MST\n",
    "\n",
    "Do spectral features relate to clinical symptom changes after MST treatment? Do these features resemble the changes seen in ECT, a more invasive seizure therapy? In this notebook, we use an existing dataset shared with us by Hill, et al 2020 of pre- and post-treatment resting state EEG data from 23 patients receiving a standard therapeutic course of MST as a treatment for Major Depressive Disorder. \n",
    "\n",
    "Using spectral parameterization, we quantified aperiodic exponent, offest, as well as features of oscillatory peaks (when present) in the delta (1-4 Hz), theta (4-7 Hz), and alpha (7-14 Hz) frequency ranges. Here, we attempt to relate these features to a standard measure of clinical symptom severity, the Hamilton Depression Rating Scale (HAMD/HDRS), and a standard measure of cognitive wellbeing, the Montreal Cognitive Assessment (MoCA). Specifically, we focus on how spectral features like aperiodic activity and offset might better capture changes in depressive symptom improvement and cognitive wellbeing as an effect of MST."
   ]
  },
  {
   "cell_type": "code",
   "execution_count": 1,
   "id": "78b75668",
   "metadata": {},
   "outputs": [
    {
     "name": "stderr",
     "output_type": "stream",
     "text": [
      "/Applications/anaconda3/envs/ECT_Hadas/lib/python3.9/site-packages/outdated/utils.py:14: OutdatedPackageWarning: The package pingouin is out of date. Your version is 0.5.0, the latest is 0.5.2.\n",
      "Set the environment variable OUTDATED_IGNORE=1 to disable these warnings.\n",
      "  return warn(\n"
     ]
    }
   ],
   "source": [
    "import numpy as np\n",
    "import scipy.io as sio\n",
    "import pandas as pd\n",
    "import h5py as h5\n",
    "\n",
    "import matplotlib.pyplot as plt\n",
    "import seaborn as sns\n",
    "\n",
    "from statsmodels.formula.api import ols\n",
    "from pingouin import corr, ttest"
   ]
  },
  {
   "cell_type": "code",
   "execution_count": 3,
   "id": "fb9c6a03",
   "metadata": {},
   "outputs": [
    {
     "ename": "FileNotFoundError",
     "evalue": "[Errno 2] No such file or directory: '/Volumes/VLabA/ect_mst/DATA/clinical_data/MST/MST_clinical.csv'",
     "output_type": "error",
     "traceback": [
      "\u001b[0;31m---------------------------------------------------------------------------\u001b[0m",
      "\u001b[0;31mFileNotFoundError\u001b[0m                         Traceback (most recent call last)",
      "\u001b[0;32m/var/folders/4y/9f495rs90mzcdsr_7wb6khh00000gp/T/ipykernel_45031/4184900423.py\u001b[0m in \u001b[0;36m<module>\u001b[0;34m\u001b[0m\n\u001b[0;32m----> 1\u001b[0;31m \u001b[0mMST_clinical\u001b[0m \u001b[0;34m=\u001b[0m \u001b[0mpd\u001b[0m\u001b[0;34m.\u001b[0m\u001b[0mread_csv\u001b[0m\u001b[0;34m(\u001b[0m\u001b[0;34m'/Volumes/VLabA/ect_mst/DATA/clinical_data/MST/MST_clinical.csv'\u001b[0m\u001b[0;34m)\u001b[0m\u001b[0;34m\u001b[0m\u001b[0;34m\u001b[0m\u001b[0m\n\u001b[0m\u001b[1;32m      2\u001b[0m \u001b[0mMST_HAMD\u001b[0m \u001b[0;34m=\u001b[0m \u001b[0mpd\u001b[0m\u001b[0;34m.\u001b[0m\u001b[0mread_csv\u001b[0m\u001b[0;34m(\u001b[0m\u001b[0;34m'/Volumes/VLabA/ect_mst/DATA/clinical_data/MST/MST_HAMD.csv'\u001b[0m\u001b[0;34m)\u001b[0m\u001b[0;34m\u001b[0m\u001b[0;34m\u001b[0m\u001b[0m\n\u001b[1;32m      3\u001b[0m \u001b[0mMST_MOCA\u001b[0m \u001b[0;34m=\u001b[0m \u001b[0mpd\u001b[0m\u001b[0;34m.\u001b[0m\u001b[0mread_csv\u001b[0m\u001b[0;34m(\u001b[0m\u001b[0;34m'/Volumes/VLabA/ect_mst/DATA/clinical_data/MST/MST_MOCA.csv'\u001b[0m\u001b[0;34m)\u001b[0m\u001b[0;34m\u001b[0m\u001b[0;34m\u001b[0m\u001b[0m\n\u001b[1;32m      4\u001b[0m \u001b[0mexp_df\u001b[0m \u001b[0;34m=\u001b[0m \u001b[0mpd\u001b[0m\u001b[0;34m.\u001b[0m\u001b[0mread_csv\u001b[0m\u001b[0;34m(\u001b[0m\u001b[0meeg_features_path\u001b[0m\u001b[0;34m)\u001b[0m\u001b[0;34m\u001b[0m\u001b[0;34m\u001b[0m\u001b[0m\n",
      "\u001b[0;32m/Applications/anaconda3/envs/ECT_Hadas/lib/python3.9/site-packages/pandas/util/_decorators.py\u001b[0m in \u001b[0;36mwrapper\u001b[0;34m(*args, **kwargs)\u001b[0m\n\u001b[1;32m    309\u001b[0m                     \u001b[0mstacklevel\u001b[0m\u001b[0;34m=\u001b[0m\u001b[0mstacklevel\u001b[0m\u001b[0;34m,\u001b[0m\u001b[0;34m\u001b[0m\u001b[0;34m\u001b[0m\u001b[0m\n\u001b[1;32m    310\u001b[0m                 )\n\u001b[0;32m--> 311\u001b[0;31m             \u001b[0;32mreturn\u001b[0m \u001b[0mfunc\u001b[0m\u001b[0;34m(\u001b[0m\u001b[0;34m*\u001b[0m\u001b[0margs\u001b[0m\u001b[0;34m,\u001b[0m \u001b[0;34m**\u001b[0m\u001b[0mkwargs\u001b[0m\u001b[0;34m)\u001b[0m\u001b[0;34m\u001b[0m\u001b[0;34m\u001b[0m\u001b[0m\n\u001b[0m\u001b[1;32m    312\u001b[0m \u001b[0;34m\u001b[0m\u001b[0m\n\u001b[1;32m    313\u001b[0m         \u001b[0;32mreturn\u001b[0m \u001b[0mwrapper\u001b[0m\u001b[0;34m\u001b[0m\u001b[0;34m\u001b[0m\u001b[0m\n",
      "\u001b[0;32m/Applications/anaconda3/envs/ECT_Hadas/lib/python3.9/site-packages/pandas/io/parsers/readers.py\u001b[0m in \u001b[0;36mread_csv\u001b[0;34m(filepath_or_buffer, sep, delimiter, header, names, index_col, usecols, squeeze, prefix, mangle_dupe_cols, dtype, engine, converters, true_values, false_values, skipinitialspace, skiprows, skipfooter, nrows, na_values, keep_default_na, na_filter, verbose, skip_blank_lines, parse_dates, infer_datetime_format, keep_date_col, date_parser, dayfirst, cache_dates, iterator, chunksize, compression, thousands, decimal, lineterminator, quotechar, quoting, doublequote, escapechar, comment, encoding, encoding_errors, dialect, error_bad_lines, warn_bad_lines, on_bad_lines, delim_whitespace, low_memory, memory_map, float_precision, storage_options)\u001b[0m\n\u001b[1;32m    584\u001b[0m     \u001b[0mkwds\u001b[0m\u001b[0;34m.\u001b[0m\u001b[0mupdate\u001b[0m\u001b[0;34m(\u001b[0m\u001b[0mkwds_defaults\u001b[0m\u001b[0;34m)\u001b[0m\u001b[0;34m\u001b[0m\u001b[0;34m\u001b[0m\u001b[0m\n\u001b[1;32m    585\u001b[0m \u001b[0;34m\u001b[0m\u001b[0m\n\u001b[0;32m--> 586\u001b[0;31m     \u001b[0;32mreturn\u001b[0m \u001b[0m_read\u001b[0m\u001b[0;34m(\u001b[0m\u001b[0mfilepath_or_buffer\u001b[0m\u001b[0;34m,\u001b[0m \u001b[0mkwds\u001b[0m\u001b[0;34m)\u001b[0m\u001b[0;34m\u001b[0m\u001b[0;34m\u001b[0m\u001b[0m\n\u001b[0m\u001b[1;32m    587\u001b[0m \u001b[0;34m\u001b[0m\u001b[0m\n\u001b[1;32m    588\u001b[0m \u001b[0;34m\u001b[0m\u001b[0m\n",
      "\u001b[0;32m/Applications/anaconda3/envs/ECT_Hadas/lib/python3.9/site-packages/pandas/io/parsers/readers.py\u001b[0m in \u001b[0;36m_read\u001b[0;34m(filepath_or_buffer, kwds)\u001b[0m\n\u001b[1;32m    480\u001b[0m \u001b[0;34m\u001b[0m\u001b[0m\n\u001b[1;32m    481\u001b[0m     \u001b[0;31m# Create the parser.\u001b[0m\u001b[0;34m\u001b[0m\u001b[0;34m\u001b[0m\u001b[0m\n\u001b[0;32m--> 482\u001b[0;31m     \u001b[0mparser\u001b[0m \u001b[0;34m=\u001b[0m \u001b[0mTextFileReader\u001b[0m\u001b[0;34m(\u001b[0m\u001b[0mfilepath_or_buffer\u001b[0m\u001b[0;34m,\u001b[0m \u001b[0;34m**\u001b[0m\u001b[0mkwds\u001b[0m\u001b[0;34m)\u001b[0m\u001b[0;34m\u001b[0m\u001b[0;34m\u001b[0m\u001b[0m\n\u001b[0m\u001b[1;32m    483\u001b[0m \u001b[0;34m\u001b[0m\u001b[0m\n\u001b[1;32m    484\u001b[0m     \u001b[0;32mif\u001b[0m \u001b[0mchunksize\u001b[0m \u001b[0;32mor\u001b[0m \u001b[0miterator\u001b[0m\u001b[0;34m:\u001b[0m\u001b[0;34m\u001b[0m\u001b[0;34m\u001b[0m\u001b[0m\n",
      "\u001b[0;32m/Applications/anaconda3/envs/ECT_Hadas/lib/python3.9/site-packages/pandas/io/parsers/readers.py\u001b[0m in \u001b[0;36m__init__\u001b[0;34m(self, f, engine, **kwds)\u001b[0m\n\u001b[1;32m    809\u001b[0m             \u001b[0mself\u001b[0m\u001b[0;34m.\u001b[0m\u001b[0moptions\u001b[0m\u001b[0;34m[\u001b[0m\u001b[0;34m\"has_index_names\"\u001b[0m\u001b[0;34m]\u001b[0m \u001b[0;34m=\u001b[0m \u001b[0mkwds\u001b[0m\u001b[0;34m[\u001b[0m\u001b[0;34m\"has_index_names\"\u001b[0m\u001b[0;34m]\u001b[0m\u001b[0;34m\u001b[0m\u001b[0;34m\u001b[0m\u001b[0m\n\u001b[1;32m    810\u001b[0m \u001b[0;34m\u001b[0m\u001b[0m\n\u001b[0;32m--> 811\u001b[0;31m         \u001b[0mself\u001b[0m\u001b[0;34m.\u001b[0m\u001b[0m_engine\u001b[0m \u001b[0;34m=\u001b[0m \u001b[0mself\u001b[0m\u001b[0;34m.\u001b[0m\u001b[0m_make_engine\u001b[0m\u001b[0;34m(\u001b[0m\u001b[0mself\u001b[0m\u001b[0;34m.\u001b[0m\u001b[0mengine\u001b[0m\u001b[0;34m)\u001b[0m\u001b[0;34m\u001b[0m\u001b[0;34m\u001b[0m\u001b[0m\n\u001b[0m\u001b[1;32m    812\u001b[0m \u001b[0;34m\u001b[0m\u001b[0m\n\u001b[1;32m    813\u001b[0m     \u001b[0;32mdef\u001b[0m \u001b[0mclose\u001b[0m\u001b[0;34m(\u001b[0m\u001b[0mself\u001b[0m\u001b[0;34m)\u001b[0m\u001b[0;34m:\u001b[0m\u001b[0;34m\u001b[0m\u001b[0;34m\u001b[0m\u001b[0m\n",
      "\u001b[0;32m/Applications/anaconda3/envs/ECT_Hadas/lib/python3.9/site-packages/pandas/io/parsers/readers.py\u001b[0m in \u001b[0;36m_make_engine\u001b[0;34m(self, engine)\u001b[0m\n\u001b[1;32m   1038\u001b[0m             )\n\u001b[1;32m   1039\u001b[0m         \u001b[0;31m# error: Too many arguments for \"ParserBase\"\u001b[0m\u001b[0;34m\u001b[0m\u001b[0;34m\u001b[0m\u001b[0m\n\u001b[0;32m-> 1040\u001b[0;31m         \u001b[0;32mreturn\u001b[0m \u001b[0mmapping\u001b[0m\u001b[0;34m[\u001b[0m\u001b[0mengine\u001b[0m\u001b[0;34m]\u001b[0m\u001b[0;34m(\u001b[0m\u001b[0mself\u001b[0m\u001b[0;34m.\u001b[0m\u001b[0mf\u001b[0m\u001b[0;34m,\u001b[0m \u001b[0;34m**\u001b[0m\u001b[0mself\u001b[0m\u001b[0;34m.\u001b[0m\u001b[0moptions\u001b[0m\u001b[0;34m)\u001b[0m  \u001b[0;31m# type: ignore[call-arg]\u001b[0m\u001b[0;34m\u001b[0m\u001b[0;34m\u001b[0m\u001b[0m\n\u001b[0m\u001b[1;32m   1041\u001b[0m \u001b[0;34m\u001b[0m\u001b[0m\n\u001b[1;32m   1042\u001b[0m     \u001b[0;32mdef\u001b[0m \u001b[0m_failover_to_python\u001b[0m\u001b[0;34m(\u001b[0m\u001b[0mself\u001b[0m\u001b[0;34m)\u001b[0m\u001b[0;34m:\u001b[0m\u001b[0;34m\u001b[0m\u001b[0;34m\u001b[0m\u001b[0m\n",
      "\u001b[0;32m/Applications/anaconda3/envs/ECT_Hadas/lib/python3.9/site-packages/pandas/io/parsers/c_parser_wrapper.py\u001b[0m in \u001b[0;36m__init__\u001b[0;34m(self, src, **kwds)\u001b[0m\n\u001b[1;32m     49\u001b[0m \u001b[0;34m\u001b[0m\u001b[0m\n\u001b[1;32m     50\u001b[0m         \u001b[0;31m# open handles\u001b[0m\u001b[0;34m\u001b[0m\u001b[0;34m\u001b[0m\u001b[0m\n\u001b[0;32m---> 51\u001b[0;31m         \u001b[0mself\u001b[0m\u001b[0;34m.\u001b[0m\u001b[0m_open_handles\u001b[0m\u001b[0;34m(\u001b[0m\u001b[0msrc\u001b[0m\u001b[0;34m,\u001b[0m \u001b[0mkwds\u001b[0m\u001b[0;34m)\u001b[0m\u001b[0;34m\u001b[0m\u001b[0;34m\u001b[0m\u001b[0m\n\u001b[0m\u001b[1;32m     52\u001b[0m         \u001b[0;32massert\u001b[0m \u001b[0mself\u001b[0m\u001b[0;34m.\u001b[0m\u001b[0mhandles\u001b[0m \u001b[0;32mis\u001b[0m \u001b[0;32mnot\u001b[0m \u001b[0;32mNone\u001b[0m\u001b[0;34m\u001b[0m\u001b[0;34m\u001b[0m\u001b[0m\n\u001b[1;32m     53\u001b[0m \u001b[0;34m\u001b[0m\u001b[0m\n",
      "\u001b[0;32m/Applications/anaconda3/envs/ECT_Hadas/lib/python3.9/site-packages/pandas/io/parsers/base_parser.py\u001b[0m in \u001b[0;36m_open_handles\u001b[0;34m(self, src, kwds)\u001b[0m\n\u001b[1;32m    220\u001b[0m         \u001b[0mLet\u001b[0m \u001b[0mthe\u001b[0m \u001b[0mreaders\u001b[0m \u001b[0mopen\u001b[0m \u001b[0mIOHandles\u001b[0m \u001b[0mafter\u001b[0m \u001b[0mthey\u001b[0m \u001b[0mare\u001b[0m \u001b[0mdone\u001b[0m \u001b[0;32mwith\u001b[0m \u001b[0mtheir\u001b[0m \u001b[0mpotential\u001b[0m \u001b[0mraises\u001b[0m\u001b[0;34m.\u001b[0m\u001b[0;34m\u001b[0m\u001b[0;34m\u001b[0m\u001b[0m\n\u001b[1;32m    221\u001b[0m         \"\"\"\n\u001b[0;32m--> 222\u001b[0;31m         self.handles = get_handle(\n\u001b[0m\u001b[1;32m    223\u001b[0m             \u001b[0msrc\u001b[0m\u001b[0;34m,\u001b[0m\u001b[0;34m\u001b[0m\u001b[0;34m\u001b[0m\u001b[0m\n\u001b[1;32m    224\u001b[0m             \u001b[0;34m\"r\"\u001b[0m\u001b[0;34m,\u001b[0m\u001b[0;34m\u001b[0m\u001b[0;34m\u001b[0m\u001b[0m\n",
      "\u001b[0;32m/Applications/anaconda3/envs/ECT_Hadas/lib/python3.9/site-packages/pandas/io/common.py\u001b[0m in \u001b[0;36mget_handle\u001b[0;34m(path_or_buf, mode, encoding, compression, memory_map, is_text, errors, storage_options)\u001b[0m\n\u001b[1;32m    699\u001b[0m         \u001b[0;32mif\u001b[0m \u001b[0mioargs\u001b[0m\u001b[0;34m.\u001b[0m\u001b[0mencoding\u001b[0m \u001b[0;32mand\u001b[0m \u001b[0;34m\"b\"\u001b[0m \u001b[0;32mnot\u001b[0m \u001b[0;32min\u001b[0m \u001b[0mioargs\u001b[0m\u001b[0;34m.\u001b[0m\u001b[0mmode\u001b[0m\u001b[0;34m:\u001b[0m\u001b[0;34m\u001b[0m\u001b[0;34m\u001b[0m\u001b[0m\n\u001b[1;32m    700\u001b[0m             \u001b[0;31m# Encoding\u001b[0m\u001b[0;34m\u001b[0m\u001b[0;34m\u001b[0m\u001b[0m\n\u001b[0;32m--> 701\u001b[0;31m             handle = open(\n\u001b[0m\u001b[1;32m    702\u001b[0m                 \u001b[0mhandle\u001b[0m\u001b[0;34m,\u001b[0m\u001b[0;34m\u001b[0m\u001b[0;34m\u001b[0m\u001b[0m\n\u001b[1;32m    703\u001b[0m                 \u001b[0mioargs\u001b[0m\u001b[0;34m.\u001b[0m\u001b[0mmode\u001b[0m\u001b[0;34m,\u001b[0m\u001b[0;34m\u001b[0m\u001b[0;34m\u001b[0m\u001b[0m\n",
      "\u001b[0;31mFileNotFoundError\u001b[0m: [Errno 2] No such file or directory: '/Volumes/VLabA/ect_mst/DATA/clinical_data/MST/MST_clinical.csv'"
     ]
    }
   ],
   "source": [
    "MST_clinical = pd.read_csv('../saved_files/mst_files/mst_clinical_data/MST_clinical.csv')\n",
    "MST_HAMD = pd.read_csv('../saved_files/mst_files/mst_clinical_data/MST_HAMD.csv')\n",
    "MST_MOCA = pd.read_csv('../saved_files/mst_files/mst_clinical_data/MST_MOCA.csv')\n",
    "exp_df = pd.read_csv('../saved_files/mst_files/mst_all_features.csv', index_col = 0)\n"
   ]
  },
  {
   "cell_type": "markdown",
   "id": "8fceb1c2",
   "metadata": {},
   "source": [
    "# 0. Check all clinical ratings for consistency/validity\n",
    "\n",
    "Data cleaning"
   ]
  },
  {
   "cell_type": "code",
   "execution_count": null,
   "id": "06730b86",
   "metadata": {
    "scrolled": true
   },
   "outputs": [],
   "source": [
    "MST_HAMD.columns"
   ]
  },
  {
   "cell_type": "code",
   "execution_count": null,
   "id": "cffd8bd8",
   "metadata": {},
   "outputs": [],
   "source": [
    "# rename columns\n",
    "\n",
    "MST_HAMD = MST_HAMD[['subject', 'TotalBaseline', 'TotalPost']].copy().rename(columns={'subject': 'patient',\n",
    "                                                                                 'TotalBaseline': 'HAMD_TotalPre',\n",
    "                                                                                 'TotalPost': 'HAMD_TotalPost'})\n",
    "# MST_MOCA = MST_MOCA[['subject', 'TotalPre', 'TotalPost']].copy().rename(columns={'subject': 'patient',\n",
    "#                                                                                    'TotalPre': 'MADRS_TotalPre',\n",
    "#                                                                                    'TotalPost': 'MADRS_TotalPost'})\n",
    "\n",
    "# merge into single dataframe\n",
    "# all_clinical = pd.merge(ECT_HAMD, ECT_MADRS, on='patient', how='outer')"
   ]
  },
  {
   "cell_type": "code",
   "execution_count": null,
   "id": "7cd6da68",
   "metadata": {
    "scrolled": true
   },
   "outputs": [],
   "source": [
    "MST_clinical[['SubjectID','x_OfAcuteTxsReceived']]"
   ]
  },
  {
   "cell_type": "code",
   "execution_count": null,
   "id": "4d058c41",
   "metadata": {},
   "outputs": [],
   "source": [
    "# rename columns\n",
    "MST_clinical = MST_clinical[['SubjectID','x_OfAcuteTxsReceived']].copy().rename(columns={'SubjectID': 'patient',\n",
    "                                                                                 'x_OfAcuteTxsReceived': 'n_TxsReceived'})\n",
    "# merge into single dataframe\n",
    "all_clinical = pd.merge(MST_HAMD, MST_clinical, on='patient', how='outer')"
   ]
  },
  {
   "cell_type": "code",
   "execution_count": null,
   "id": "1e0a4e03",
   "metadata": {
    "scrolled": true
   },
   "outputs": [],
   "source": [
    "all_clinical"
   ]
  },
  {
   "cell_type": "markdown",
   "id": "9b0bf9e1",
   "metadata": {},
   "source": [
    "### 0.1 calculating Symptom differences and improvement ratios\n",
    "\n",
    "*Difference = pre - post*  \n",
    "Difference captures absolute change in depression severity.\n",
    "\n",
    "\n",
    "*Ratio = (pre - post) / pre*   \n",
    "Ratio captures relative change in depression severity compared to baseline."
   ]
  },
  {
   "cell_type": "code",
   "execution_count": null,
   "id": "3085f1c7",
   "metadata": {},
   "outputs": [],
   "source": [
    "all_clinical['HAMD_diff'] = all_clinical['HAMD_TotalPre'] - all_clinical['HAMD_TotalPost']\n",
    "all_clinical['HAMD_ratio'] = (all_clinical['HAMD_TotalPre'] - all_clinical['HAMD_TotalPost'])/all_clinical['HAMD_TotalPre']\n"
   ]
  },
  {
   "cell_type": "code",
   "execution_count": null,
   "id": "92db118f",
   "metadata": {
    "scrolled": true
   },
   "outputs": [],
   "source": [
    "all_clinical"
   ]
  },
  {
   "cell_type": "markdown",
   "id": "8f3798ce",
   "metadata": {},
   "source": [
    "## 1. All electrode analysis\n",
    "\n",
    "What is the relationship between the changes in EEG features pre/post treatment and clinical symptom improvement? What can the average features across all 60 EEG electrodes tell us about clinical symptom changes?"
   ]
  },
  {
   "cell_type": "code",
   "execution_count": null,
   "id": "6ba28069",
   "metadata": {},
   "outputs": [],
   "source": [
    "# features to include in analysis\n",
    "features = ['delta_cf', 'delta_bw', 'delta_amp', 'delta_bp', 'theta_cf', 'theta_bw', 'theta_amp',\n",
    "            'theta_bp', 'alpha_cf', 'alpha_bw', 'alpha_amp', 'alpha_bp', 'offset', 'exponent']\n",
    "\n",
    "# exclude bad fits\n",
    "exp_df_included = exp_df[exp_df['exclude']==False]\n",
    "\n",
    "# average across ALL electrodes\n",
    "exp_df_mean = pd.DataFrame(exp_df_included.groupby(['patient', 'pre_post'], as_index=False)[features].mean())\n",
    "\n",
    "# Pre/Post Difference dataframe\n",
    "eeg_diff_df_mean = exp_df_mean.groupby(['patient'], as_index=False)[features].diff().dropna(0,how='all')\n",
    "eeg_diff_df_mean['patient'] = exp_df_mean['patient']"
   ]
  },
  {
   "cell_type": "code",
   "execution_count": null,
   "id": "61c62c30",
   "metadata": {},
   "outputs": [],
   "source": [
    "eeg_diff_df_mean.head()"
   ]
  },
  {
   "cell_type": "code",
   "execution_count": null,
   "id": "2322b990",
   "metadata": {
    "scrolled": true
   },
   "outputs": [],
   "source": [
    "all_clinical"
   ]
  },
  {
   "cell_type": "code",
   "execution_count": null,
   "id": "29ad5693",
   "metadata": {
    "scrolled": true
   },
   "outputs": [],
   "source": [
    "clin_eeg_diff_df = pd.merge(all_clinical, eeg_diff_df_mean, on='patient', how='outer')\n",
    "#clin_eeg_diff_df.drop([7,8]) # remove patients with incorrectly input MADRS data"
   ]
  },
  {
   "cell_type": "code",
   "execution_count": null,
   "id": "687174d5",
   "metadata": {
    "scrolled": true
   },
   "outputs": [],
   "source": [
    "clin_eeg_diff_df"
   ]
  },
  {
   "cell_type": "code",
   "execution_count": null,
   "id": "2c65c902",
   "metadata": {
    "scrolled": true
   },
   "outputs": [],
   "source": [
    "# boxplot of MST HAMD measures\n",
    "\n",
    "# only MST subjects that have ECT recordings\n",
    "\n",
    "incl_clin_eeg_diff_df = clin_eeg_diff_df[clin_eeg_diff_df['exponent'].notna()]\n",
    "incl_clin_eeg_diff_df.boxplot(['HAMD_TotalPre', 'HAMD_TotalPost'])"
   ]
  },
  {
   "cell_type": "code",
   "execution_count": null,
   "id": "fec8bdd3",
   "metadata": {},
   "outputs": [],
   "source": [
    "ttest(incl_clin_eeg_diff_df['HAMD_TotalPre'], incl_clin_eeg_diff_df['HAMD_TotalPost'], paired=True)"
   ]
  },
  {
   "cell_type": "markdown",
   "id": "88dfc8d5",
   "metadata": {},
   "source": [
    "### What is the relationship of the HAMD ratio to spectral features and traditional band power measures?"
   ]
  },
  {
   "cell_type": "code",
   "execution_count": null,
   "id": "58a65e97",
   "metadata": {},
   "outputs": [],
   "source": [
    "formula = 'HAMD_ratio ~ exponent + offset + delta_bp + theta_bp'\n",
    "\n",
    "model = ols(formula, clin_eeg_diff_df).fit()\n",
    "\n",
    "print(model.summary())"
   ]
  },
  {
   "cell_type": "code",
   "execution_count": null,
   "id": "7dd54fda",
   "metadata": {
    "scrolled": true
   },
   "outputs": [],
   "source": [
    "sns.regplot(clin_eeg_diff_df['exponent'], clin_eeg_diff_df['HAMD_ratio'])"
   ]
  },
  {
   "cell_type": "code",
   "execution_count": null,
   "id": "f93fe8a8",
   "metadata": {},
   "outputs": [],
   "source": [
    "# correlation heat map visualization"
   ]
  },
  {
   "cell_type": "markdown",
   "id": "08cb377f",
   "metadata": {},
   "source": [
    "## 2. Frontal Channels Only Analysis\n",
    "\n",
    "If we limit the channels to only frontal and central electrodes, is there a more localized difference?"
   ]
  },
  {
   "cell_type": "code",
   "execution_count": null,
   "id": "1ff7e338",
   "metadata": {},
   "outputs": [],
   "source": [
    "# features to include in analysis\n",
    "features = ['delta_cf', 'delta_bw', 'delta_amp', 'delta_bp', 'theta_cf', 'theta_bw', 'theta_amp',\n",
    "            'theta_bp', 'alpha_cf', 'alpha_bw', 'alpha_amp', 'alpha_bp', 'offset', 'exponent']\n",
    "\n",
    "# exclude bad fits\n",
    "exp_df_included = exp_df[exp_df['exclude']==False]"
   ]
  },
  {
   "cell_type": "code",
   "execution_count": null,
   "id": "7ba30648",
   "metadata": {},
   "outputs": [],
   "source": [
    "FRONTAL_ONLY = True\n",
    "frontal_channels = ['FP1', 'FPZ', 'FP2', 'AF3', 'AF4', 'F7', 'F5', 'F3', 'F1', 'FZ',\n",
    "                    'F2', 'F4', 'F6', 'F8', 'FT7', 'FC5', 'FC3', 'FC1', 'FCZ', 'FC2',\n",
    "                    'FC4', 'FC6', 'FT8', 'C5', 'C3', 'C1', 'CZ', 'C2', 'C4', 'C6']\n",
    "\n",
    "if FRONTAL_ONLY:\n",
    "    exp_df_included = exp_df_included[exp_df_included['channel'].isin(frontal_channels)]"
   ]
  },
  {
   "cell_type": "code",
   "execution_count": null,
   "id": "b6ab5c4f",
   "metadata": {},
   "outputs": [],
   "source": [
    "# average across frontal electrodes\n",
    "exp_df_mean = pd.DataFrame(exp_df_included.groupby(['patient', 'pre_post'], as_index=False)[features].mean())\n",
    "\n",
    "# Pre/Post Difference dataframe\n",
    "eeg_diff_df_mean = exp_df_mean.groupby(['patient'], as_index=False)[features].diff().dropna(0,how='all')\n",
    "eeg_diff_df_mean['patient'] = exp_df_mean['patient']"
   ]
  },
  {
   "cell_type": "code",
   "execution_count": null,
   "id": "234a0a1a",
   "metadata": {
    "scrolled": true
   },
   "outputs": [],
   "source": [
    "clin_eeg_diff_df = pd.merge(all_clinical, eeg_diff_df_mean, on='patient', how='outer')\n",
    "# clin_eeg_diff_df.drop([7,8])"
   ]
  },
  {
   "cell_type": "code",
   "execution_count": null,
   "id": "bf8f087a",
   "metadata": {
    "scrolled": false
   },
   "outputs": [],
   "source": [
    "formula = 'HAMD_ratio ~ exponent + offset + delta_bp + theta_bp + theta_amp'\n",
    "\n",
    "model = ols(formula, clin_eeg_diff_df).fit()\n",
    "\n",
    "print(model.summary())"
   ]
  },
  {
   "cell_type": "code",
   "execution_count": null,
   "id": "c04e17af",
   "metadata": {},
   "outputs": [],
   "source": [
    "sns.regplot(clin_eeg_diff_df['exponent'], clin_eeg_diff_df['HAMD_ratio'])"
   ]
  },
  {
   "cell_type": "markdown",
   "id": "0a76392d",
   "metadata": {},
   "source": [
    "### Do responders show different EEG features than non-responders?\n",
    "\n",
    "In clinical studies (incl. Hill et al, 2020) patients are typically split into two groups, responders (<=50% decrease in symptom severity) and non-responders. Are there differential effects in their EEGs?\n",
    "\n",
    "Not enough responders to run these analyses"
   ]
  },
  {
   "cell_type": "code",
   "execution_count": null,
   "id": "0eda9305",
   "metadata": {},
   "outputs": [],
   "source": [
    "responders_diff_df = clin_eeg_diff_df[clin_eeg_diff_df['HAMD_ratio']>= 0.5]\n",
    "nonresponders_diff_df = clin_eeg_diff_df[clin_eeg_diff_df['HAMD_ratio']<= 0.5]"
   ]
  },
  {
   "cell_type": "code",
   "execution_count": null,
   "id": "fca1364e",
   "metadata": {},
   "outputs": [],
   "source": [
    "sns.histplot(clin_eeg_diff_df['HAMD_ratio'])"
   ]
  },
  {
   "cell_type": "markdown",
   "id": "1ba8630a",
   "metadata": {},
   "source": [
    "# 3. Does Pre-Treatment EEG predict response to treatment?"
   ]
  },
  {
   "cell_type": "code",
   "execution_count": null,
   "id": "e50da9ca",
   "metadata": {},
   "outputs": [],
   "source": [
    "FRONTAL_ONLY = True\n",
    "frontal_channels = ['FP1', 'FPZ', 'FP2', 'AF3', 'AF4', 'F7', 'F5', 'F3', 'F1', 'FZ',\n",
    "                    'F2', 'F4', 'F6', 'F8', 'FT7', 'FC5', 'FC3', 'FC1', 'FCZ', 'FC2',\n",
    "                    'FC4', 'FC6', 'FT8', 'C5', 'C3', 'C1', 'CZ', 'C2', 'C4', 'C6']\n",
    "\n",
    "if FRONTAL_ONLY:\n",
    "    exp_df_included = exp_df_included[exp_df_included['channel'].isin(frontal_channels)]"
   ]
  },
  {
   "cell_type": "code",
   "execution_count": null,
   "id": "cef26c67",
   "metadata": {},
   "outputs": [],
   "source": [
    "# features to include in analysis\n",
    "features = ['delta_cf', 'delta_bw', 'delta_amp', 'delta_bp', 'theta_cf', 'theta_bw', 'theta_amp',\n",
    "            'theta_bp', 'alpha_cf', 'alpha_bw', 'alpha_amp', 'alpha_bp', 'offset', 'exponent']\n",
    "\n",
    "# average across ALL electrodes\n",
    "exp_df_mean = pd.DataFrame(exp_df_included.groupby(['patient', 'pre_post'], as_index=False)[features].mean())\n",
    "\n",
    "# Pre ONLY dataframe\n",
    "eeg_pre_df_mean = pd.DataFrame(exp_df_mean[exp_df_mean['pre_post']=='pre'])"
   ]
  },
  {
   "cell_type": "code",
   "execution_count": null,
   "id": "74a1af63",
   "metadata": {},
   "outputs": [],
   "source": [
    "eeg_pre_df_mean.head()"
   ]
  },
  {
   "cell_type": "code",
   "execution_count": null,
   "id": "09a0b602",
   "metadata": {
    "scrolled": true
   },
   "outputs": [],
   "source": [
    "clin_eeg_pre_df = pd.merge(MST_HAMD, eeg_pre_df_mean, on='patient', how='outer')\n",
    "# clin_eeg_pre_df.drop([7,8])"
   ]
  },
  {
   "cell_type": "code",
   "execution_count": null,
   "id": "ae372fa5",
   "metadata": {},
   "outputs": [],
   "source": [
    "sns.regplot(clin_eeg_pre_df['exponent'], clin_eeg_pre_df['HAMD_ratio'])"
   ]
  },
  {
   "cell_type": "code",
   "execution_count": null,
   "id": "87db0c80",
   "metadata": {},
   "outputs": [],
   "source": [
    "corr(clin_eeg_pre_df['exponent'], clin_eeg_pre_df['HAMD_ratio'], method='spearman')"
   ]
  },
  {
   "cell_type": "code",
   "execution_count": null,
   "id": "b5933620",
   "metadata": {},
   "outputs": [],
   "source": [
    "sns.regplot(clin_eeg_pre_df['offset'], clin_eeg_pre_df['HAMD_ratio'])"
   ]
  },
  {
   "cell_type": "code",
   "execution_count": null,
   "id": "fd58afc5",
   "metadata": {},
   "outputs": [],
   "source": [
    "formula = 'HAMD_ratio ~ exponent + offset + delta_bp + theta_bp + theta_amp'\n",
    "\n",
    "model = ols(formula, clin_eeg_pre_df).fit()\n",
    "\n",
    "print(model.summary())"
   ]
  },
  {
   "cell_type": "markdown",
   "id": "c9954c46",
   "metadata": {},
   "source": [
    "### Does pre-treatment exponent predict change in exponent?\n",
    "\n",
    "This was the case in Smith et al, 2022."
   ]
  },
  {
   "cell_type": "code",
   "execution_count": null,
   "id": "c5d5bbe8",
   "metadata": {},
   "outputs": [],
   "source": [
    "sns.regplot(clin_eeg_pre_df['exponent'], clin_eeg_diff_df['exponent'])\n",
    "plt.ylabel('$\\Delta$ exponent')\n",
    "plt.xlabel('pre-ECT exponent')"
   ]
  },
  {
   "cell_type": "markdown",
   "id": "2cc90a3c",
   "metadata": {},
   "source": [
    "# 4. How does exponent (baseline & change) affect response to treatment?\n",
    "\n",
    "Does combining the baseline exponent measurement with the patients change in exponent through treatment provide a stronger prediction about treatment response and therapeutic efficacy? This was the case in Smith et al, 2022."
   ]
  },
  {
   "cell_type": "code",
   "execution_count": null,
   "id": "08121149",
   "metadata": {},
   "outputs": [],
   "source": [
    "clin_eeg_pre_df.head()"
   ]
  },
  {
   "cell_type": "code",
   "execution_count": null,
   "id": "eb5c9d76",
   "metadata": {},
   "outputs": [],
   "source": [
    "clin_eeg_diff_df.head()"
   ]
  },
  {
   "cell_type": "code",
   "execution_count": null,
   "id": "df33285a",
   "metadata": {},
   "outputs": [],
   "source": [
    "# data cleaning and DF combining \n",
    "\n",
    "features = ['patient', 'delta_cf', 'delta_bw', 'delta_amp', 'delta_bp', 'theta_cf', 'theta_bw', 'theta_amp',\n",
    "            'theta_bp', 'alpha_cf', 'alpha_bw', 'alpha_amp', 'alpha_bp', 'offset', 'exponent']\n",
    "\n",
    "\n",
    "\n",
    "eeg_diff_df = clin_eeg_diff_df[features].copy().rename(columns={'delta_cf': 'd_delta_cf',\n",
    "                                                             'delta_bw': 'd_delta_bw', \n",
    "                                                             'delta_amp': 'd_delta_amp',\n",
    "                                                             'delta_bp': 'd_delta_bp',\n",
    "                                                             'theta_cf': 'd_theta_cf',\n",
    "                                                             'theta_bw': 'd_theta_bw',\n",
    "                                                             'theta_amp': 'd_theta_amp',\n",
    "                                                             'theta_bp': 'd_theta_bp',\n",
    "                                                             'alpha_cf': 'd_alpha_cf',\n",
    "                                                             'alpha_bw': 'd_alpha_bw',\n",
    "                                                             'alpha_amp': 'd_alpha_amp',\n",
    "                                                             'alpha_bp': 'd_alpha_bp',\n",
    "                                                             'offset': 'd_offset',\n",
    "                                                             'exponent': 'd_exponent'})\n",
    "\n",
    "clin_pre_diff_df = pd.merge(eeg_diff_df, clin_eeg_pre_df, on='patient', how='outer')"
   ]
  },
  {
   "cell_type": "code",
   "execution_count": null,
   "id": "c3588d07",
   "metadata": {},
   "outputs": [],
   "source": [
    "formula = 'HAMD_ratio ~ exponent + d_exponent'\n",
    "\n",
    "model = ols(formula, clin_pre_diff_df).fit()\n",
    "\n",
    "print(model.summary())"
   ]
  },
  {
   "cell_type": "code",
   "execution_count": null,
   "id": "07bd8ecd",
   "metadata": {},
   "outputs": [],
   "source": [
    "formula = 'HAMD_diff ~ exponent + d_exponent'\n",
    "\n",
    "model = ols(formula, clin_pre_diff_df).fit()\n",
    "\n",
    "print(model.summary())"
   ]
  },
  {
   "cell_type": "code",
   "execution_count": null,
   "id": "bd060e0c",
   "metadata": {},
   "outputs": [],
   "source": [
    "# Oscillation percentage predicting clinical response???"
   ]
  },
  {
   "cell_type": "markdown",
   "id": "caabc45a",
   "metadata": {},
   "source": [
    "### Add Delta & Theta osc percentage columns"
   ]
  },
  {
   "cell_type": "code",
   "execution_count": null,
   "id": "90cb1d9f",
   "metadata": {
    "scrolled": true
   },
   "outputs": [],
   "source": [
    "exp_df_included"
   ]
  },
  {
   "cell_type": "code",
   "execution_count": null,
   "id": "c97764e5",
   "metadata": {},
   "outputs": [],
   "source": [
    "# Create a new df to find # of channels per person per pre/post that do not have 'nan' \n",
    "# (aka that have a delta oscillation)\n",
    "\n",
    "features = ['patient','pre_post','channel','delta_cf']\n",
    "exp_df_delta_osc = pd.DataFrame(exp_df_included[features])\n",
    "exp_df_delta_osc['delta_present'] = exp_df_delta_osc['delta_cf'].notna()\n",
    "# Create a new df to find # of channels per person per pre/post that do not have 'nan' \n",
    "\n",
    "ch_delta = exp_df_delta_osc.groupby(['patient', 'pre_post'])['delta_present'].sum().values\n",
    "ch_total = exp_df_delta_osc.groupby(['patient', 'pre_post'])['channel'].count().values\n",
    "ch_delta_perc = ch_delta/ch_total\n",
    "\n",
    "# Add the delta oscillation percentages to the other df to determine which value corresponds to pre/post\n",
    "\n",
    "delta_osc_perc = pd.DataFrame(exp_df_delta_osc.groupby(['patient', 'pre_post'], as_index=False)['delta_present'].sum())\n",
    "delta_osc_perc['ch_delta_perc'] = ch_delta_perc"
   ]
  },
  {
   "cell_type": "code",
   "execution_count": null,
   "id": "316d2cfa",
   "metadata": {},
   "outputs": [],
   "source": [
    "# same as above but theta\n",
    "\n",
    "# Create a new df to find # of channels per person per pre/post that do not have 'nan' \n",
    "# (aka that have a theta oscillation)\n",
    "\n",
    "features = ['patient','pre_post','channel','theta_cf']\n",
    "exp_df_theta_osc = pd.DataFrame(exp_df_included[features])\n",
    "exp_df_theta_osc['theta_present'] = exp_df_theta_osc['theta_cf'].notna()\n",
    "# Create a new df to find # of channels per person per pre/post that do not have 'nan' \n",
    "\n",
    "ch_theta = exp_df_theta_osc.groupby(['patient', 'pre_post'])['theta_present'].sum().values\n",
    "ch_total = exp_df_theta_osc.groupby(['patient', 'pre_post'])['channel'].count().values\n",
    "ch_theta_perc = ch_theta/ch_total\n",
    "\n",
    "# Add the theta oscillation percentages to the other df to determine which value corresponds to pre/post\n",
    "\n",
    "theta_osc_perc = pd.DataFrame(exp_df_theta_osc.groupby(['patient', 'pre_post'], as_index=False)['theta_present'].sum())\n",
    "theta_osc_perc['ch_theta_perc'] = ch_theta_perc"
   ]
  },
  {
   "cell_type": "code",
   "execution_count": null,
   "id": "be298722",
   "metadata": {},
   "outputs": [],
   "source": [
    "slow_osc_perc = pd.merge(delta_osc_perc, theta_osc_perc, on=['patient', 'pre_post'], how='outer')"
   ]
  },
  {
   "cell_type": "code",
   "execution_count": null,
   "id": "af253f30",
   "metadata": {},
   "outputs": [],
   "source": [
    "slow_osc_perc"
   ]
  },
  {
   "cell_type": "code",
   "execution_count": null,
   "id": "35374bc8",
   "metadata": {},
   "outputs": [],
   "source": [
    "exp_df_mean_w_percs = pd.merge(exp_df_mean, slow_osc_perc, on=['patient', 'pre_post'], how='outer')"
   ]
  },
  {
   "cell_type": "code",
   "execution_count": null,
   "id": "f389e50e",
   "metadata": {},
   "outputs": [],
   "source": [
    "exp_df_mean_w_percs.columns"
   ]
  },
  {
   "cell_type": "code",
   "execution_count": null,
   "id": "378f0f46",
   "metadata": {},
   "outputs": [],
   "source": [
    "# Pre/Post Difference dataframe\n",
    "features = ['delta_cf', 'delta_bw', 'delta_amp', 'delta_bp',\n",
    "       'theta_cf', 'theta_bw', 'theta_amp', 'theta_bp', 'alpha_cf', 'alpha_bw',\n",
    "       'alpha_amp', 'alpha_bp', 'offset', 'exponent', 'delta_present',\n",
    "       'ch_delta_perc', 'theta_present', 'ch_theta_perc']\n",
    "\n",
    "eeg_diff_df_mean = exp_df_mean_w_percs.groupby(['patient'], as_index=False)[features].diff().dropna(0,how='all').multiply(-1)\n",
    "eeg_diff_df_mean['patient'] = exp_df_mean_w_percs['patient']"
   ]
  },
  {
   "cell_type": "code",
   "execution_count": null,
   "id": "3ffee970",
   "metadata": {},
   "outputs": [],
   "source": [
    "clin_eeg_diff_df = pd.merge(all_clinical, eeg_diff_df_mean, on='patient', how='right')"
   ]
  },
  {
   "cell_type": "code",
   "execution_count": null,
   "id": "dcd8d13f",
   "metadata": {},
   "outputs": [],
   "source": [
    "clin_eeg_diff_df.to_csv('../saved_files/mst_files/mst_clin_eeg_diff.csv')"
   ]
  },
  {
   "cell_type": "code",
   "execution_count": null,
   "id": "028c456f",
   "metadata": {},
   "outputs": [],
   "source": [
    "clin_eeg_diff_df"
   ]
  },
  {
   "cell_type": "code",
   "execution_count": null,
   "id": "0d103aa8",
   "metadata": {},
   "outputs": [],
   "source": []
  }
 ],
 "metadata": {
  "kernelspec": {
   "display_name": "Python 3 (ipykernel)",
   "language": "python",
   "name": "python3"
  },
  "language_info": {
   "codemirror_mode": {
    "name": "ipython",
    "version": 3
   },
   "file_extension": ".py",
   "mimetype": "text/x-python",
   "name": "python",
   "nbconvert_exporter": "python",
   "pygments_lexer": "ipython3",
   "version": "3.8.11"
  }
 },
 "nbformat": 4,
 "nbformat_minor": 5
}
