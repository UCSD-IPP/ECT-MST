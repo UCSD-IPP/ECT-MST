{
 "cells": [
  {
   "cell_type": "markdown",
   "id": "7e5522c7",
   "metadata": {},
   "source": [
    "# Analysis of baseline differences between ECT and MST treatment groups"
   ]
  },
  {
   "cell_type": "markdown",
   "id": "ce3b7e98",
   "metadata": {},
   "source": [
    "## imports"
   ]
  },
  {
   "cell_type": "code",
   "execution_count": 1,
   "id": "a3b48ab8",
   "metadata": {},
   "outputs": [
    {
     "name": "stderr",
     "output_type": "stream",
     "text": [
      "/Applications/anaconda3/envs/ECT_Hadas/lib/python3.9/site-packages/outdated/utils.py:14: OutdatedPackageWarning: The package pingouin is out of date. Your version is 0.5.0, the latest is 0.5.3.\n",
      "Set the environment variable OUTDATED_IGNORE=1 to disable these warnings.\n",
      "  return warn(\n",
      "/Applications/anaconda3/envs/ECT_Hadas/lib/python3.9/site-packages/outdated/utils.py:14: OutdatedPackageWarning: The package outdated is out of date. Your version is 0.2.1, the latest is 0.2.2.\n",
      "Set the environment variable OUTDATED_IGNORE=1 to disable these warnings.\n",
      "  return warn(\n"
     ]
    }
   ],
   "source": [
    "import numpy as np\n",
    "import pandas as pd\n",
    "\n",
    "import matplotlib.pyplot as plt\n",
    "import seaborn as sns\n",
    "\n",
    "import statsmodels.api as sm\n",
    "from statsmodels.formula.api import ols\n",
    "from pingouin import corr, ttest, normality, wilcoxon\n",
    "from cliffs_delta import cliffs_delta\n",
    "from scipy.stats import zscore\n",
    "\n",
    "from mlxtend.feature_selection import ExhaustiveFeatureSelector as EFS\n",
    "from sklearn.linear_model import LinearRegression"
   ]
  },
  {
   "cell_type": "markdown",
   "id": "873369d9",
   "metadata": {},
   "source": [
    "---\n",
    "\n",
    "# 1) MST"
   ]
  },
  {
   "cell_type": "markdown",
   "id": "0b46647f",
   "metadata": {},
   "source": [
    "## Load EEG features\n",
    "\n",
    "This cell loads the dataframe with the outputs of the spectral parameterization analysis for pre, post, and post-treatment difference. Features are averaged over all electrodes because no spectral features of interest show a characteristic, informative spatial topography. Futhermore, model fits <0.8 were dropped due to poor models fits. "
   ]
  },
  {
   "cell_type": "code",
   "execution_count": 2,
   "id": "c150df89",
   "metadata": {},
   "outputs": [],
   "source": [
    "mst_pre_post_diff = pd.read_csv('../saved_files/mst_files/mst_pre_post_diff_df.csv', index_col=0)"
   ]
  },
  {
   "cell_type": "markdown",
   "id": "5573e92d",
   "metadata": {},
   "source": [
    "## Load clinical features CSV\n",
    "\n",
    "This cell loads the dataframes with clinical ratings and demographics. These dataframes are then refactored into a single clinical dataframe with the relevant features included."
   ]
  },
  {
   "cell_type": "code",
   "execution_count": 3,
   "id": "6ad41d84",
   "metadata": {},
   "outputs": [],
   "source": [
    "MST_clinical = pd.read_csv('../saved_files/mst_files/mst_clinical_data/MST_clinical.csv')\n",
    "MST_HAMD = pd.read_csv('../saved_files/mst_files/mst_clinical_data/MST_HAMD.csv')\n",
    "\n",
    "# Rename columns\n",
    "MST_HAMD = MST_HAMD[['subject', 'TotalBaseline', 'TotalPost']].copy().rename(columns={'subject': 'patient',\n",
    "                                                                                'TotalBaseline': 'pre_HAMD',\n",
    "                                                                                'TotalPost': 'post_HAMD'})\n",
    "MST_clinical = MST_clinical[['SubjectID', 'x_OfAcuteTxsReceived']].copy().rename(columns={'SubjectID': 'patient',\n",
    "                                                                                  'x_OfAcuteTxsReceived': 'n_TxsReceived'})\n",
    "\n",
    "# Merge into single dataframe\n",
    "all_clinical = pd.merge(MST_HAMD, MST_clinical, on='patient', how='outer')"
   ]
  },
  {
   "cell_type": "code",
   "execution_count": 4,
   "id": "335a8efd",
   "metadata": {},
   "outputs": [],
   "source": [
    "# Merge spectral features dataframe with clinical features dataframe\n",
    "mst_clin_eeg_df = pd.merge(mst_pre_post_diff, all_clinical, on='patient', how='left')"
   ]
  },
  {
   "cell_type": "markdown",
   "id": "5d283e5d",
   "metadata": {},
   "source": [
    "---\n",
    "# 2) ECT"
   ]
  },
  {
   "cell_type": "markdown",
   "id": "64247d1c",
   "metadata": {},
   "source": [
    "## load EEG features\n",
    "\n",
    "This cell loads the dataframe with the outputs of the spectral parameterization analysis. Features are then averaged over all electrodes. We are averaging over all electrodes because no spectral features of interest show a characteristic, informative spatial topography. Futhermore, model fits <0.8 are dropped due to poor models fits."
   ]
  },
  {
   "cell_type": "code",
   "execution_count": 5,
   "id": "40f24497",
   "metadata": {},
   "outputs": [],
   "source": [
    "ect_pre_post_diff = pd.read_csv('../saved_files/ect_files/ect_pre_post_diff_df.csv', index_col=0)"
   ]
  },
  {
   "cell_type": "markdown",
   "id": "f42ce35d",
   "metadata": {},
   "source": [
    "## Load clinical features CSV\n",
    "\n",
    "This cell loads the dataframes with clinical ratings and demographics. These dataframes are then refactored into a single clinical dataframe with the relevant features included."
   ]
  },
  {
   "cell_type": "code",
   "execution_count": 6,
   "id": "620c72b4",
   "metadata": {},
   "outputs": [],
   "source": [
    "ECT_clinical = pd.read_csv('../saved_files/ect_files/ect_clinical_data/ECT_clinical.csv')\n",
    "ECT_HAMD = pd.read_csv('../saved_files/ect_files/ect_clinical_data/ECT_HAMD.csv')\n",
    "\n",
    "# Rename columns\n",
    "ECT_HAMD = ECT_HAMD[['subject', 'TotalPre', 'TotalPost']].copy().rename(columns={'subject': 'patient',\n",
    "                                                                                 'TotalPre': 'pre_HAMD',\n",
    "                                                                                 'TotalPost': 'post_HAMD'})\n",
    "ECT_clinical = ECT_clinical[['subject', 'x_OfTxsReceived']].copy().rename(columns={'subject': 'patient',\n",
    "                                                                                   'x_OfTxsReceived': 'n_TxsReceived'})\n",
    "\n",
    "# Merge into single dataframe\n",
    "all_clinical = pd.merge(ECT_HAMD, ECT_clinical, on='patient', how='outer')"
   ]
  },
  {
   "cell_type": "code",
   "execution_count": 7,
   "id": "63b2be7f",
   "metadata": {},
   "outputs": [],
   "source": [
    "# Merge spectral features dataframe with clinical features dataframe\n",
    "ect_clin_eeg_df = pd.merge(ect_pre_post_diff, all_clinical, on='patient', how='left')"
   ]
  },
  {
   "cell_type": "markdown",
   "id": "31e6371e",
   "metadata": {},
   "source": [
    "----\n",
    "\n",
    "# 3)ECT & MST"
   ]
  },
  {
   "cell_type": "code",
   "execution_count": 8,
   "id": "289b4ba7",
   "metadata": {},
   "outputs": [],
   "source": [
    "# Add treatment type column\n",
    "mst_clin_eeg_df['treatment_type'] = np.tile('MST', len(mst_clin_eeg_df['patient']))\n",
    "ect_clin_eeg_df['treatment_type'] = np.tile('ECT', len(ect_clin_eeg_df['patient']))"
   ]
  },
  {
   "cell_type": "code",
   "execution_count": 9,
   "id": "b59edb22",
   "metadata": {},
   "outputs": [],
   "source": [
    "ect_mst_clin_eeg_df = pd.concat([ect_clin_eeg_df, mst_clin_eeg_df], ignore_index=True)"
   ]
  },
  {
   "cell_type": "code",
   "execution_count": 10,
   "id": "706e61d3",
   "metadata": {},
   "outputs": [
    {
     "data": {
      "text/html": [
       "<div>\n",
       "<style scoped>\n",
       "    .dataframe tbody tr th:only-of-type {\n",
       "        vertical-align: middle;\n",
       "    }\n",
       "\n",
       "    .dataframe tbody tr th {\n",
       "        vertical-align: top;\n",
       "    }\n",
       "\n",
       "    .dataframe thead th {\n",
       "        text-align: right;\n",
       "    }\n",
       "</style>\n",
       "<table border=\"1\" class=\"dataframe\">\n",
       "  <thead>\n",
       "    <tr style=\"text-align: right;\">\n",
       "      <th></th>\n",
       "      <th>patient</th>\n",
       "      <th>pre_exponent</th>\n",
       "      <th>pre_offset</th>\n",
       "      <th>pre_delta_amp</th>\n",
       "      <th>pre_delta_bp</th>\n",
       "      <th>pre_theta_amp</th>\n",
       "      <th>pre_theta_bp</th>\n",
       "      <th>pre_theta_cf</th>\n",
       "      <th>pre_delta_cf</th>\n",
       "      <th>pre_alpha_amp</th>\n",
       "      <th>...</th>\n",
       "      <th>diff_alpha_amp</th>\n",
       "      <th>diff_alpha_bp</th>\n",
       "      <th>diff_alpha_cf</th>\n",
       "      <th>diff_ch_theta_perc</th>\n",
       "      <th>diff_ch_delta_perc</th>\n",
       "      <th>diff_ch_alpha_perc</th>\n",
       "      <th>pre_HAMD</th>\n",
       "      <th>post_HAMD</th>\n",
       "      <th>n_TxsReceived</th>\n",
       "      <th>treatment_type</th>\n",
       "    </tr>\n",
       "  </thead>\n",
       "  <tbody>\n",
       "    <tr>\n",
       "      <th>0</th>\n",
       "      <td>3</td>\n",
       "      <td>0.475478</td>\n",
       "      <td>-11.985471</td>\n",
       "      <td>0.110521</td>\n",
       "      <td>-12.143266</td>\n",
       "      <td>0.283711</td>\n",
       "      <td>-12.224720</td>\n",
       "      <td>6.654823</td>\n",
       "      <td>1.471049</td>\n",
       "      <td>0.832821</td>\n",
       "      <td>...</td>\n",
       "      <td>0.275602</td>\n",
       "      <td>-0.286402</td>\n",
       "      <td>0.081001</td>\n",
       "      <td>-0.283333</td>\n",
       "      <td>-0.283333</td>\n",
       "      <td>0.016667</td>\n",
       "      <td>33.0</td>\n",
       "      <td>7.0</td>\n",
       "      <td>8.0</td>\n",
       "      <td>ECT</td>\n",
       "    </tr>\n",
       "    <tr>\n",
       "      <th>1</th>\n",
       "      <td>4</td>\n",
       "      <td>0.810115</td>\n",
       "      <td>-11.540574</td>\n",
       "      <td>0.210006</td>\n",
       "      <td>-11.752841</td>\n",
       "      <td>0.290177</td>\n",
       "      <td>-12.230327</td>\n",
       "      <td>5.305208</td>\n",
       "      <td>2.387229</td>\n",
       "      <td>1.476136</td>\n",
       "      <td>...</td>\n",
       "      <td>0.476360</td>\n",
       "      <td>0.772309</td>\n",
       "      <td>0.813718</td>\n",
       "      <td>-0.816667</td>\n",
       "      <td>-0.033333</td>\n",
       "      <td>0.000000</td>\n",
       "      <td>24.0</td>\n",
       "      <td>13.0</td>\n",
       "      <td>10.0</td>\n",
       "      <td>ECT</td>\n",
       "    </tr>\n",
       "    <tr>\n",
       "      <th>2</th>\n",
       "      <td>10</td>\n",
       "      <td>0.902232</td>\n",
       "      <td>-11.672074</td>\n",
       "      <td>0.082965</td>\n",
       "      <td>-11.983244</td>\n",
       "      <td>0.229451</td>\n",
       "      <td>-12.161033</td>\n",
       "      <td>5.749715</td>\n",
       "      <td>3.434821</td>\n",
       "      <td>1.123810</td>\n",
       "      <td>...</td>\n",
       "      <td>-0.338883</td>\n",
       "      <td>-0.726749</td>\n",
       "      <td>1.695905</td>\n",
       "      <td>-0.283333</td>\n",
       "      <td>0.116667</td>\n",
       "      <td>0.000000</td>\n",
       "      <td>21.0</td>\n",
       "      <td>20.0</td>\n",
       "      <td>11.0</td>\n",
       "      <td>ECT</td>\n",
       "    </tr>\n",
       "    <tr>\n",
       "      <th>3</th>\n",
       "      <td>13</td>\n",
       "      <td>1.015031</td>\n",
       "      <td>-11.609259</td>\n",
       "      <td>0.151263</td>\n",
       "      <td>-11.884587</td>\n",
       "      <td>0.370829</td>\n",
       "      <td>-12.171802</td>\n",
       "      <td>6.155017</td>\n",
       "      <td>2.084118</td>\n",
       "      <td>1.464451</td>\n",
       "      <td>...</td>\n",
       "      <td>0.100156</td>\n",
       "      <td>-0.051523</td>\n",
       "      <td>0.028742</td>\n",
       "      <td>-0.166667</td>\n",
       "      <td>-0.016667</td>\n",
       "      <td>0.000000</td>\n",
       "      <td>25.0</td>\n",
       "      <td>22.0</td>\n",
       "      <td>15.0</td>\n",
       "      <td>ECT</td>\n",
       "    </tr>\n",
       "    <tr>\n",
       "      <th>4</th>\n",
       "      <td>16</td>\n",
       "      <td>0.809859</td>\n",
       "      <td>-11.699310</td>\n",
       "      <td>NaN</td>\n",
       "      <td>-12.021677</td>\n",
       "      <td>0.213585</td>\n",
       "      <td>-12.270817</td>\n",
       "      <td>5.831488</td>\n",
       "      <td>NaN</td>\n",
       "      <td>0.956072</td>\n",
       "      <td>...</td>\n",
       "      <td>0.124481</td>\n",
       "      <td>-0.211126</td>\n",
       "      <td>1.022784</td>\n",
       "      <td>-0.316667</td>\n",
       "      <td>-0.133333</td>\n",
       "      <td>0.000000</td>\n",
       "      <td>24.0</td>\n",
       "      <td>NaN</td>\n",
       "      <td>14.0</td>\n",
       "      <td>ECT</td>\n",
       "    </tr>\n",
       "  </tbody>\n",
       "</table>\n",
       "<p>5 rows × 55 columns</p>\n",
       "</div>"
      ],
      "text/plain": [
       "   patient  pre_exponent  pre_offset  pre_delta_amp  pre_delta_bp  \\\n",
       "0        3      0.475478  -11.985471       0.110521    -12.143266   \n",
       "1        4      0.810115  -11.540574       0.210006    -11.752841   \n",
       "2       10      0.902232  -11.672074       0.082965    -11.983244   \n",
       "3       13      1.015031  -11.609259       0.151263    -11.884587   \n",
       "4       16      0.809859  -11.699310            NaN    -12.021677   \n",
       "\n",
       "   pre_theta_amp  pre_theta_bp  pre_theta_cf  pre_delta_cf  pre_alpha_amp  \\\n",
       "0       0.283711    -12.224720      6.654823      1.471049       0.832821   \n",
       "1       0.290177    -12.230327      5.305208      2.387229       1.476136   \n",
       "2       0.229451    -12.161033      5.749715      3.434821       1.123810   \n",
       "3       0.370829    -12.171802      6.155017      2.084118       1.464451   \n",
       "4       0.213585    -12.270817      5.831488           NaN       0.956072   \n",
       "\n",
       "   ...  diff_alpha_amp  diff_alpha_bp  diff_alpha_cf  diff_ch_theta_perc  \\\n",
       "0  ...        0.275602      -0.286402       0.081001           -0.283333   \n",
       "1  ...        0.476360       0.772309       0.813718           -0.816667   \n",
       "2  ...       -0.338883      -0.726749       1.695905           -0.283333   \n",
       "3  ...        0.100156      -0.051523       0.028742           -0.166667   \n",
       "4  ...        0.124481      -0.211126       1.022784           -0.316667   \n",
       "\n",
       "   diff_ch_delta_perc  diff_ch_alpha_perc  pre_HAMD  post_HAMD  n_TxsReceived  \\\n",
       "0           -0.283333            0.016667      33.0        7.0            8.0   \n",
       "1           -0.033333            0.000000      24.0       13.0           10.0   \n",
       "2            0.116667            0.000000      21.0       20.0           11.0   \n",
       "3           -0.016667            0.000000      25.0       22.0           15.0   \n",
       "4           -0.133333            0.000000      24.0        NaN           14.0   \n",
       "\n",
       "   treatment_type  \n",
       "0             ECT  \n",
       "1             ECT  \n",
       "2             ECT  \n",
       "3             ECT  \n",
       "4             ECT  \n",
       "\n",
       "[5 rows x 55 columns]"
      ]
     },
     "execution_count": 10,
     "metadata": {},
     "output_type": "execute_result"
    }
   ],
   "source": [
    "ect_mst_clin_eeg_df.head()"
   ]
  },
  {
   "cell_type": "markdown",
   "id": "61475c1a",
   "metadata": {},
   "source": [
    "## Standardize HAMD scores and save new dataframe"
   ]
  },
  {
   "cell_type": "code",
   "execution_count": 19,
   "id": "37794196",
   "metadata": {},
   "outputs": [],
   "source": [
    "# Standardize HAMD scores from either rating (HAMD-17 or HAMD-24)\n",
    "MAX_HAMD_17 = 52\n",
    "MAX_HAMD_24 = 76\n",
    "\n",
    "ect_HAMD_pre = ect_mst_clin_eeg_df[ect_mst_clin_eeg_df['treatment_type']=='ECT']['pre_HAMD']\n",
    "std_ect_HAMD_pre = (ect_HAMD_pre-0)/(MAX_HAMD_17-0)\n",
    "\n",
    "ect_HAMD_post = ect_mst_clin_eeg_df[ect_mst_clin_eeg_df['treatment_type']=='ECT']['post_HAMD']\n",
    "std_ect_HAMD_post = (ect_HAMD_post-0)/(MAX_HAMD_17-0)\n",
    "\n",
    "mst_HAMD_pre = ect_mst_clin_eeg_df[ect_mst_clin_eeg_df['treatment_type']=='MST']['pre_HAMD']\n",
    "std_mst_HAMD_pre = (mst_HAMD_pre-0)/(MAX_HAMD_24-0)\n",
    "\n",
    "mst_HAMD_post = ect_mst_clin_eeg_df[ect_mst_clin_eeg_df['treatment_type']=='MST']['post_HAMD']\n",
    "std_mst_HAMD_post = (mst_HAMD_post-0)/(MAX_HAMD_24-0)"
   ]
  },
  {
   "cell_type": "code",
   "execution_count": 20,
   "id": "dbf7b45e",
   "metadata": {},
   "outputs": [],
   "source": [
    "# Concatenate HAMD standardized scores\n",
    "std_HAMD_pre = pd.concat([std_ect_HAMD_pre, std_mst_HAMD_pre])\n",
    "std_HAMD_post = pd.concat([std_ect_HAMD_post, std_mst_HAMD_post])\n",
    "# Label which is pre and post\n",
    "ect_mst_clin_eeg_df['std_HAMD_pre'] = std_HAMD_pre\n",
    "ect_mst_clin_eeg_df['std_HAMD_post'] = std_HAMD_post"
   ]
  },
  {
   "cell_type": "code",
   "execution_count": 21,
   "id": "7e3855ed",
   "metadata": {},
   "outputs": [],
   "source": [
    "# Eliminate participants that have no HAMD score\n",
    "ect_mst_clin_eeg_df_nonan = pd.DataFrame(ect_mst_clin_eeg_df[ect_mst_clin_eeg_df['std_HAMD_post'].notna()])"
   ]
  },
  {
   "cell_type": "code",
   "execution_count": 22,
   "id": "aecc57ff",
   "metadata": {},
   "outputs": [
    {
     "data": {
      "text/html": [
       "<div>\n",
       "<style scoped>\n",
       "    .dataframe tbody tr th:only-of-type {\n",
       "        vertical-align: middle;\n",
       "    }\n",
       "\n",
       "    .dataframe tbody tr th {\n",
       "        vertical-align: top;\n",
       "    }\n",
       "\n",
       "    .dataframe thead th {\n",
       "        text-align: right;\n",
       "    }\n",
       "</style>\n",
       "<table border=\"1\" class=\"dataframe\">\n",
       "  <thead>\n",
       "    <tr style=\"text-align: right;\">\n",
       "      <th></th>\n",
       "      <th>patient</th>\n",
       "      <th>pre_exponent</th>\n",
       "      <th>pre_offset</th>\n",
       "      <th>pre_delta_amp</th>\n",
       "      <th>pre_delta_bp</th>\n",
       "      <th>pre_theta_amp</th>\n",
       "      <th>pre_theta_bp</th>\n",
       "      <th>pre_theta_cf</th>\n",
       "      <th>pre_delta_cf</th>\n",
       "      <th>pre_alpha_amp</th>\n",
       "      <th>...</th>\n",
       "      <th>diff_alpha_cf</th>\n",
       "      <th>diff_ch_theta_perc</th>\n",
       "      <th>diff_ch_delta_perc</th>\n",
       "      <th>diff_ch_alpha_perc</th>\n",
       "      <th>pre_HAMD</th>\n",
       "      <th>post_HAMD</th>\n",
       "      <th>n_TxsReceived</th>\n",
       "      <th>treatment_type</th>\n",
       "      <th>std_HAMD_pre</th>\n",
       "      <th>std_HAMD_post</th>\n",
       "    </tr>\n",
       "  </thead>\n",
       "  <tbody>\n",
       "    <tr>\n",
       "      <th>0</th>\n",
       "      <td>3</td>\n",
       "      <td>0.475478</td>\n",
       "      <td>-11.985471</td>\n",
       "      <td>0.110521</td>\n",
       "      <td>-12.143266</td>\n",
       "      <td>0.283711</td>\n",
       "      <td>-12.224720</td>\n",
       "      <td>6.654823</td>\n",
       "      <td>1.471049</td>\n",
       "      <td>0.832821</td>\n",
       "      <td>...</td>\n",
       "      <td>0.081001</td>\n",
       "      <td>-0.283333</td>\n",
       "      <td>-0.283333</td>\n",
       "      <td>0.016667</td>\n",
       "      <td>33.0</td>\n",
       "      <td>7.0</td>\n",
       "      <td>8.0</td>\n",
       "      <td>ECT</td>\n",
       "      <td>0.634615</td>\n",
       "      <td>0.134615</td>\n",
       "    </tr>\n",
       "    <tr>\n",
       "      <th>1</th>\n",
       "      <td>4</td>\n",
       "      <td>0.810115</td>\n",
       "      <td>-11.540574</td>\n",
       "      <td>0.210006</td>\n",
       "      <td>-11.752841</td>\n",
       "      <td>0.290177</td>\n",
       "      <td>-12.230327</td>\n",
       "      <td>5.305208</td>\n",
       "      <td>2.387229</td>\n",
       "      <td>1.476136</td>\n",
       "      <td>...</td>\n",
       "      <td>0.813718</td>\n",
       "      <td>-0.816667</td>\n",
       "      <td>-0.033333</td>\n",
       "      <td>0.000000</td>\n",
       "      <td>24.0</td>\n",
       "      <td>13.0</td>\n",
       "      <td>10.0</td>\n",
       "      <td>ECT</td>\n",
       "      <td>0.461538</td>\n",
       "      <td>0.250000</td>\n",
       "    </tr>\n",
       "    <tr>\n",
       "      <th>2</th>\n",
       "      <td>10</td>\n",
       "      <td>0.902232</td>\n",
       "      <td>-11.672074</td>\n",
       "      <td>0.082965</td>\n",
       "      <td>-11.983244</td>\n",
       "      <td>0.229451</td>\n",
       "      <td>-12.161033</td>\n",
       "      <td>5.749715</td>\n",
       "      <td>3.434821</td>\n",
       "      <td>1.123810</td>\n",
       "      <td>...</td>\n",
       "      <td>1.695905</td>\n",
       "      <td>-0.283333</td>\n",
       "      <td>0.116667</td>\n",
       "      <td>0.000000</td>\n",
       "      <td>21.0</td>\n",
       "      <td>20.0</td>\n",
       "      <td>11.0</td>\n",
       "      <td>ECT</td>\n",
       "      <td>0.403846</td>\n",
       "      <td>0.384615</td>\n",
       "    </tr>\n",
       "    <tr>\n",
       "      <th>3</th>\n",
       "      <td>13</td>\n",
       "      <td>1.015031</td>\n",
       "      <td>-11.609259</td>\n",
       "      <td>0.151263</td>\n",
       "      <td>-11.884587</td>\n",
       "      <td>0.370829</td>\n",
       "      <td>-12.171802</td>\n",
       "      <td>6.155017</td>\n",
       "      <td>2.084118</td>\n",
       "      <td>1.464451</td>\n",
       "      <td>...</td>\n",
       "      <td>0.028742</td>\n",
       "      <td>-0.166667</td>\n",
       "      <td>-0.016667</td>\n",
       "      <td>0.000000</td>\n",
       "      <td>25.0</td>\n",
       "      <td>22.0</td>\n",
       "      <td>15.0</td>\n",
       "      <td>ECT</td>\n",
       "      <td>0.480769</td>\n",
       "      <td>0.423077</td>\n",
       "    </tr>\n",
       "    <tr>\n",
       "      <th>5</th>\n",
       "      <td>18</td>\n",
       "      <td>0.880447</td>\n",
       "      <td>-11.752390</td>\n",
       "      <td>NaN</td>\n",
       "      <td>-12.055804</td>\n",
       "      <td>NaN</td>\n",
       "      <td>-12.413767</td>\n",
       "      <td>NaN</td>\n",
       "      <td>NaN</td>\n",
       "      <td>0.467704</td>\n",
       "      <td>...</td>\n",
       "      <td>0.645287</td>\n",
       "      <td>-0.466667</td>\n",
       "      <td>-0.050000</td>\n",
       "      <td>0.133333</td>\n",
       "      <td>23.0</td>\n",
       "      <td>30.0</td>\n",
       "      <td>17.0</td>\n",
       "      <td>ECT</td>\n",
       "      <td>0.442308</td>\n",
       "      <td>0.576923</td>\n",
       "    </tr>\n",
       "  </tbody>\n",
       "</table>\n",
       "<p>5 rows × 57 columns</p>\n",
       "</div>"
      ],
      "text/plain": [
       "   patient  pre_exponent  pre_offset  pre_delta_amp  pre_delta_bp  \\\n",
       "0        3      0.475478  -11.985471       0.110521    -12.143266   \n",
       "1        4      0.810115  -11.540574       0.210006    -11.752841   \n",
       "2       10      0.902232  -11.672074       0.082965    -11.983244   \n",
       "3       13      1.015031  -11.609259       0.151263    -11.884587   \n",
       "5       18      0.880447  -11.752390            NaN    -12.055804   \n",
       "\n",
       "   pre_theta_amp  pre_theta_bp  pre_theta_cf  pre_delta_cf  pre_alpha_amp  \\\n",
       "0       0.283711    -12.224720      6.654823      1.471049       0.832821   \n",
       "1       0.290177    -12.230327      5.305208      2.387229       1.476136   \n",
       "2       0.229451    -12.161033      5.749715      3.434821       1.123810   \n",
       "3       0.370829    -12.171802      6.155017      2.084118       1.464451   \n",
       "5            NaN    -12.413767           NaN           NaN       0.467704   \n",
       "\n",
       "   ...  diff_alpha_cf  diff_ch_theta_perc  diff_ch_delta_perc  \\\n",
       "0  ...       0.081001           -0.283333           -0.283333   \n",
       "1  ...       0.813718           -0.816667           -0.033333   \n",
       "2  ...       1.695905           -0.283333            0.116667   \n",
       "3  ...       0.028742           -0.166667           -0.016667   \n",
       "5  ...       0.645287           -0.466667           -0.050000   \n",
       "\n",
       "   diff_ch_alpha_perc  pre_HAMD  post_HAMD  n_TxsReceived  treatment_type  \\\n",
       "0            0.016667      33.0        7.0            8.0             ECT   \n",
       "1            0.000000      24.0       13.0           10.0             ECT   \n",
       "2            0.000000      21.0       20.0           11.0             ECT   \n",
       "3            0.000000      25.0       22.0           15.0             ECT   \n",
       "5            0.133333      23.0       30.0           17.0             ECT   \n",
       "\n",
       "   std_HAMD_pre  std_HAMD_post  \n",
       "0      0.634615       0.134615  \n",
       "1      0.461538       0.250000  \n",
       "2      0.403846       0.384615  \n",
       "3      0.480769       0.423077  \n",
       "5      0.442308       0.576923  \n",
       "\n",
       "[5 rows x 57 columns]"
      ]
     },
     "execution_count": 22,
     "metadata": {},
     "output_type": "execute_result"
    }
   ],
   "source": [
    "ect_mst_clin_eeg_df_nonan.head()"
   ]
  },
  {
   "cell_type": "markdown",
   "id": "695a4934",
   "metadata": {},
   "source": [
    "# Pre/Post Clinical Scores"
   ]
  },
  {
   "cell_type": "code",
   "execution_count": 23,
   "id": "ea869f93",
   "metadata": {},
   "outputs": [],
   "source": [
    "def plot_feature_prepost(exp_df_mean, feature='', tx_type=''):\n",
    "    \"\"\"Creates a plot of a given feature from the dataframe,\n",
    "       comparing its value before and after treatment\n",
    "\n",
    "    Parameters\n",
    "    ----------\n",
    "    exp_df_mean: pandas DataFrame\n",
    "        dataframe containing extractec features, averaged across electrodes\n",
    "    feature: str\n",
    "        feature of interest; 'alphas', 'thetas', 'chans_exps'\n",
    "    tx_type: str\n",
    "        treatment type (to determine color scheme); 'ECT', 'MST'\n",
    "\n",
    "    Returns\n",
    "    -------\n",
    "    plot: matplotlib obj\n",
    "        plot of feature pre/post treatment\n",
    "    \"\"\"\n",
    "    \n",
    "    pats = np.unique(exp_df_mean['patient'])\n",
    "    \n",
    "    if tx_type=='ECT':\n",
    "        pre_color = 'orange'\n",
    "        post_color = 'teal'\n",
    "    elif tx_type=='MST':\n",
    "        pre_color = 'royalblue'\n",
    "        post_color = 'salmon'\n",
    "\n",
    "    # means of alphas across patient, channels\n",
    "    means_pre = exp_df_mean['pre_HAMD'].values\n",
    "    means_post = exp_df_mean['post_HAMD'].values\n",
    "\n",
    "    sns.set_context('poster')\n",
    "\n",
    "    plt.figure(figsize=(5,8))\n",
    "    x1, x2 = 0.5, 1.5\n",
    "\n",
    "    for pat in pats:\n",
    "\n",
    "        point_pre = exp_df_mean[(exp_df_mean['patient']==pat)]['pre_HAMD'].values\n",
    "        point_post = exp_df_mean[(exp_df_mean['patient']==pat)]['post_HAMD'].values\n",
    "        xdat1= x1+np.random.normal(0, 0.025, 1)\n",
    "        xdat2= x2+np.random.normal(0, 0.025, 1)\n",
    "\n",
    "\n",
    "        plt.plot([xdat1,xdat2], [point_pre, point_post], color='k', alpha=0.05, lw=5)\n",
    "        plt.scatter(xdat1, point_pre, color=pre_color, alpha=0.7)\n",
    "        plt.scatter(xdat2, point_post, color=post_color, alpha=0.7)\n",
    "\n",
    "    plt.plot([x1-0.2, x1+0.2], [np.nanmean(means_pre), np.nanmean(means_pre)], lw=7, c=pre_color)\n",
    "    plt.plot([x2-0.2, x2+0.2], [np.nanmean(means_post), np.nanmean(means_post)], lw=7, c=post_color)\n",
    "    plt.xlim([0, 2])\n",
    "    plt.xticks([x1, x2], [\"pre\", \"post\"])\n",
    "    plt.tight_layout()"
   ]
  },
  {
   "cell_type": "code",
   "execution_count": 24,
   "id": "9724bf93",
   "metadata": {},
   "outputs": [],
   "source": [
    "# Plot for ECT\n",
    "ect_df_nonan = ect_mst_clin_eeg_df_nonan[ect_mst_clin_eeg_df_nonan['treatment_type']=='ECT']"
   ]
  },
  {
   "cell_type": "code",
   "execution_count": 25,
   "id": "ed3830e4",
   "metadata": {},
   "outputs": [
    {
     "data": {
      "image/png": "[encoded data removed]",
      "text/plain": [
       "<Figure size 360x576 with 1 Axes>"
      ]
     },
     "metadata": {
      "needs_background": "light"
     },
     "output_type": "display_data"
    }
   ],
   "source": [
    "plot_feature_prepost(ect_df_nonan, feature='pre_HAMD', tx_type='ECT')\n",
    "plt.ylabel('HAMD-17');\n",
    "plt.ylim([0,52])\n",
    "sns.despine()"
   ]
  },
  {
   "cell_type": "markdown",
   "id": "667ed9c5",
   "metadata": {},
   "source": [
    "Statistics"
   ]
  },
  {
   "cell_type": "code",
   "execution_count": 26,
   "id": "9ecc4320",
   "metadata": {},
   "outputs": [
    {
     "name": "stdout",
     "output_type": "stream",
     "text": [
      "pre = 24.263157894736842 std = 3.7689094394231737\n",
      "post = 13.210526315789474 std = 6.562341616022448\n"
     ]
    }
   ],
   "source": [
    "print('pre = '+ str(ect_df_nonan['pre_HAMD'].mean())\\\n",
    "      + ' std = ' + str(ect_df_nonan['pre_HAMD'].std()))\n",
    "\n",
    "print('post = '+ str(ect_df_nonan['post_HAMD'].mean())\\\n",
    "      + ' std = ' + str(ect_df_nonan['post_HAMD'].std()))"
   ]
  },
  {
   "cell_type": "code",
   "execution_count": 27,
   "id": "4eee6bb9",
   "metadata": {},
   "outputs": [
    {
     "data": {
      "text/html": [
       "<div>\n",
       "<style scoped>\n",
       "    .dataframe tbody tr th:only-of-type {\n",
       "        vertical-align: middle;\n",
       "    }\n",
       "\n",
       "    .dataframe tbody tr th {\n",
       "        vertical-align: top;\n",
       "    }\n",
       "\n",
       "    .dataframe thead th {\n",
       "        text-align: right;\n",
       "    }\n",
       "</style>\n",
       "<table border=\"1\" class=\"dataframe\">\n",
       "  <thead>\n",
       "    <tr style=\"text-align: right;\">\n",
       "      <th></th>\n",
       "      <th>W</th>\n",
       "      <th>pval</th>\n",
       "      <th>normal</th>\n",
       "    </tr>\n",
       "  </thead>\n",
       "  <tbody>\n",
       "    <tr>\n",
       "      <th>pre_HAMD</th>\n",
       "      <td>0.766256</td>\n",
       "      <td>0.000385</td>\n",
       "      <td>False</td>\n",
       "    </tr>\n",
       "    <tr>\n",
       "      <th>post_HAMD</th>\n",
       "      <td>0.849770</td>\n",
       "      <td>0.006651</td>\n",
       "      <td>False</td>\n",
       "    </tr>\n",
       "  </tbody>\n",
       "</table>\n",
       "</div>"
      ],
      "text/plain": [
       "                  W      pval  normal\n",
       "pre_HAMD   0.766256  0.000385   False\n",
       "post_HAMD  0.849770  0.006651   False"
      ]
     },
     "execution_count": 27,
     "metadata": {},
     "output_type": "execute_result"
    }
   ],
   "source": [
    "normality(ect_df_nonan[['pre_HAMD', 'post_HAMD']])"
   ]
  },
  {
   "cell_type": "code",
   "execution_count": 28,
   "id": "83b06dad",
   "metadata": {},
   "outputs": [
    {
     "data": {
      "text/html": [
       "<div>\n",
       "<style scoped>\n",
       "    .dataframe tbody tr th:only-of-type {\n",
       "        vertical-align: middle;\n",
       "    }\n",
       "\n",
       "    .dataframe tbody tr th {\n",
       "        vertical-align: top;\n",
       "    }\n",
       "\n",
       "    .dataframe thead th {\n",
       "        text-align: right;\n",
       "    }\n",
       "</style>\n",
       "<table border=\"1\" class=\"dataframe\">\n",
       "  <thead>\n",
       "    <tr style=\"text-align: right;\">\n",
       "      <th></th>\n",
       "      <th>W-val</th>\n",
       "      <th>alternative</th>\n",
       "      <th>p-val</th>\n",
       "      <th>RBC</th>\n",
       "      <th>CLES</th>\n",
       "    </tr>\n",
       "  </thead>\n",
       "  <tbody>\n",
       "    <tr>\n",
       "      <th>Wilcoxon</th>\n",
       "      <td>6.0</td>\n",
       "      <td>two-sided</td>\n",
       "      <td>0.000053</td>\n",
       "      <td>0.936842</td>\n",
       "      <td>0.939058</td>\n",
       "    </tr>\n",
       "  </tbody>\n",
       "</table>\n",
       "</div>"
      ],
      "text/plain": [
       "          W-val alternative     p-val       RBC      CLES\n",
       "Wilcoxon    6.0   two-sided  0.000053  0.936842  0.939058"
      ]
     },
     "execution_count": 28,
     "metadata": {},
     "output_type": "execute_result"
    }
   ],
   "source": [
    "wilcoxon(ect_df_nonan['pre_HAMD'], ect_df_nonan['post_HAMD'])"
   ]
  },
  {
   "cell_type": "code",
   "execution_count": 29,
   "id": "670573c4",
   "metadata": {},
   "outputs": [
    {
     "data": {
      "text/plain": [
       "(0.8781163434903048, 'large')"
      ]
     },
     "execution_count": 29,
     "metadata": {},
     "output_type": "execute_result"
    }
   ],
   "source": [
    "cliffs_delta(ect_df_nonan['pre_HAMD'], ect_df_nonan['post_HAMD'])"
   ]
  },
  {
   "cell_type": "code",
   "execution_count": 30,
   "id": "9387e30d",
   "metadata": {},
   "outputs": [
    {
     "data": {
      "text/html": [
       "<div>\n",
       "<style scoped>\n",
       "    .dataframe tbody tr th:only-of-type {\n",
       "        vertical-align: middle;\n",
       "    }\n",
       "\n",
       "    .dataframe tbody tr th {\n",
       "        vertical-align: top;\n",
       "    }\n",
       "\n",
       "    .dataframe thead th {\n",
       "        text-align: right;\n",
       "    }\n",
       "</style>\n",
       "<table border=\"1\" class=\"dataframe\">\n",
       "  <thead>\n",
       "    <tr style=\"text-align: right;\">\n",
       "      <th></th>\n",
       "      <th>pre_HAMD</th>\n",
       "      <th>post_HAMD</th>\n",
       "    </tr>\n",
       "  </thead>\n",
       "  <tbody>\n",
       "    <tr>\n",
       "      <th>count</th>\n",
       "      <td>19.000000</td>\n",
       "      <td>19.000000</td>\n",
       "    </tr>\n",
       "    <tr>\n",
       "      <th>mean</th>\n",
       "      <td>24.263158</td>\n",
       "      <td>13.210526</td>\n",
       "    </tr>\n",
       "    <tr>\n",
       "      <th>std</th>\n",
       "      <td>3.768909</td>\n",
       "      <td>6.562342</td>\n",
       "    </tr>\n",
       "    <tr>\n",
       "      <th>min</th>\n",
       "      <td>21.000000</td>\n",
       "      <td>7.000000</td>\n",
       "    </tr>\n",
       "    <tr>\n",
       "      <th>25%</th>\n",
       "      <td>22.000000</td>\n",
       "      <td>8.500000</td>\n",
       "    </tr>\n",
       "    <tr>\n",
       "      <th>50%</th>\n",
       "      <td>23.000000</td>\n",
       "      <td>10.000000</td>\n",
       "    </tr>\n",
       "    <tr>\n",
       "      <th>75%</th>\n",
       "      <td>24.500000</td>\n",
       "      <td>19.000000</td>\n",
       "    </tr>\n",
       "    <tr>\n",
       "      <th>max</th>\n",
       "      <td>34.000000</td>\n",
       "      <td>30.000000</td>\n",
       "    </tr>\n",
       "  </tbody>\n",
       "</table>\n",
       "</div>"
      ],
      "text/plain": [
       "        pre_HAMD  post_HAMD\n",
       "count  19.000000  19.000000\n",
       "mean   24.263158  13.210526\n",
       "std     3.768909   6.562342\n",
       "min    21.000000   7.000000\n",
       "25%    22.000000   8.500000\n",
       "50%    23.000000  10.000000\n",
       "75%    24.500000  19.000000\n",
       "max    34.000000  30.000000"
      ]
     },
     "execution_count": 30,
     "metadata": {},
     "output_type": "execute_result"
    }
   ],
   "source": [
    "ect_df_nonan[['pre_HAMD', 'post_HAMD']].describe()"
   ]
  },
  {
   "cell_type": "code",
   "execution_count": 31,
   "id": "59448b58",
   "metadata": {},
   "outputs": [],
   "source": [
    "# Plot for MST\n",
    "mst_df_nonan = ect_mst_clin_eeg_df_nonan[ect_mst_clin_eeg_df_nonan['treatment_type']=='MST']"
   ]
  },
  {
   "cell_type": "code",
   "execution_count": 32,
   "id": "428dfc85",
   "metadata": {},
   "outputs": [
    {
     "data": {
      "image/png": "[encoded data removed]",
      "text/plain": [
       "<Figure size 360x576 with 1 Axes>"
      ]
     },
     "metadata": {
      "needs_background": "light"
     },
     "output_type": "display_data"
    }
   ],
   "source": [
    "plot_feature_prepost(mst_df_nonan, feature='pre_HAMD', tx_type='MST')\n",
    "plt.ylabel('HAMD-24');\n",
    "plt.ylim([0,76])\n",
    "sns.despine()"
   ]
  },
  {
   "cell_type": "code",
   "execution_count": 33,
   "id": "40ac12b2",
   "metadata": {},
   "outputs": [
    {
     "data": {
      "text/html": [
       "<div>\n",
       "<style scoped>\n",
       "    .dataframe tbody tr th:only-of-type {\n",
       "        vertical-align: middle;\n",
       "    }\n",
       "\n",
       "    .dataframe tbody tr th {\n",
       "        vertical-align: top;\n",
       "    }\n",
       "\n",
       "    .dataframe thead th {\n",
       "        text-align: right;\n",
       "    }\n",
       "</style>\n",
       "<table border=\"1\" class=\"dataframe\">\n",
       "  <thead>\n",
       "    <tr style=\"text-align: right;\">\n",
       "      <th></th>\n",
       "      <th>W</th>\n",
       "      <th>pval</th>\n",
       "      <th>normal</th>\n",
       "    </tr>\n",
       "  </thead>\n",
       "  <tbody>\n",
       "    <tr>\n",
       "      <th>pre_HAMD</th>\n",
       "      <td>0.807431</td>\n",
       "      <td>0.006176</td>\n",
       "      <td>False</td>\n",
       "    </tr>\n",
       "    <tr>\n",
       "      <th>post_HAMD</th>\n",
       "      <td>0.940928</td>\n",
       "      <td>0.430341</td>\n",
       "      <td>True</td>\n",
       "    </tr>\n",
       "  </tbody>\n",
       "</table>\n",
       "</div>"
      ],
      "text/plain": [
       "                  W      pval  normal\n",
       "pre_HAMD   0.807431  0.006176   False\n",
       "post_HAMD  0.940928  0.430341    True"
      ]
     },
     "execution_count": 33,
     "metadata": {},
     "output_type": "execute_result"
    }
   ],
   "source": [
    "normality(mst_df_nonan[['pre_HAMD', 'post_HAMD']])"
   ]
  },
  {
   "cell_type": "code",
   "execution_count": 34,
   "id": "d7a3971e",
   "metadata": {},
   "outputs": [
    {
     "data": {
      "text/html": [
       "<div>\n",
       "<style scoped>\n",
       "    .dataframe tbody tr th:only-of-type {\n",
       "        vertical-align: middle;\n",
       "    }\n",
       "\n",
       "    .dataframe tbody tr th {\n",
       "        vertical-align: top;\n",
       "    }\n",
       "\n",
       "    .dataframe thead th {\n",
       "        text-align: right;\n",
       "    }\n",
       "</style>\n",
       "<table border=\"1\" class=\"dataframe\">\n",
       "  <thead>\n",
       "    <tr style=\"text-align: right;\">\n",
       "      <th></th>\n",
       "      <th>W-val</th>\n",
       "      <th>alternative</th>\n",
       "      <th>p-val</th>\n",
       "      <th>RBC</th>\n",
       "      <th>CLES</th>\n",
       "    </tr>\n",
       "  </thead>\n",
       "  <tbody>\n",
       "    <tr>\n",
       "      <th>Wilcoxon</th>\n",
       "      <td>7.0</td>\n",
       "      <td>two-sided</td>\n",
       "      <td>0.002319</td>\n",
       "      <td>0.866667</td>\n",
       "      <td>0.772959</td>\n",
       "    </tr>\n",
       "  </tbody>\n",
       "</table>\n",
       "</div>"
      ],
      "text/plain": [
       "          W-val alternative     p-val       RBC      CLES\n",
       "Wilcoxon    7.0   two-sided  0.002319  0.866667  0.772959"
      ]
     },
     "execution_count": 34,
     "metadata": {},
     "output_type": "execute_result"
    }
   ],
   "source": [
    "wilcoxon(mst_df_nonan['pre_HAMD'], mst_df_nonan['post_HAMD'])"
   ]
  },
  {
   "cell_type": "code",
   "execution_count": 35,
   "id": "bf35e1d2",
   "metadata": {},
   "outputs": [
    {
     "data": {
      "text/plain": [
       "(0.5459183673469388, 'large')"
      ]
     },
     "execution_count": 35,
     "metadata": {},
     "output_type": "execute_result"
    }
   ],
   "source": [
    "cliffs_delta(mst_df_nonan['pre_HAMD'], mst_df_nonan['post_HAMD'])"
   ]
  },
  {
   "cell_type": "code",
   "execution_count": 36,
   "id": "f3365210",
   "metadata": {},
   "outputs": [
    {
     "data": {
      "text/html": [
       "<div>\n",
       "<style scoped>\n",
       "    .dataframe tbody tr th:only-of-type {\n",
       "        vertical-align: middle;\n",
       "    }\n",
       "\n",
       "    .dataframe tbody tr th {\n",
       "        vertical-align: top;\n",
       "    }\n",
       "\n",
       "    .dataframe thead th {\n",
       "        text-align: right;\n",
       "    }\n",
       "</style>\n",
       "<table border=\"1\" class=\"dataframe\">\n",
       "  <thead>\n",
       "    <tr style=\"text-align: right;\">\n",
       "      <th></th>\n",
       "      <th>pre_HAMD</th>\n",
       "      <th>post_HAMD</th>\n",
       "    </tr>\n",
       "  </thead>\n",
       "  <tbody>\n",
       "    <tr>\n",
       "      <th>count</th>\n",
       "      <td>14.000000</td>\n",
       "      <td>14.000000</td>\n",
       "    </tr>\n",
       "    <tr>\n",
       "      <th>mean</th>\n",
       "      <td>28.428571</td>\n",
       "      <td>22.142857</td>\n",
       "    </tr>\n",
       "    <tr>\n",
       "      <th>std</th>\n",
       "      <td>6.429670</td>\n",
       "      <td>7.901871</td>\n",
       "    </tr>\n",
       "    <tr>\n",
       "      <th>min</th>\n",
       "      <td>22.000000</td>\n",
       "      <td>10.000000</td>\n",
       "    </tr>\n",
       "    <tr>\n",
       "      <th>25%</th>\n",
       "      <td>24.000000</td>\n",
       "      <td>19.000000</td>\n",
       "    </tr>\n",
       "    <tr>\n",
       "      <th>50%</th>\n",
       "      <td>26.500000</td>\n",
       "      <td>20.000000</td>\n",
       "    </tr>\n",
       "    <tr>\n",
       "      <th>75%</th>\n",
       "      <td>29.000000</td>\n",
       "      <td>26.000000</td>\n",
       "    </tr>\n",
       "    <tr>\n",
       "      <th>max</th>\n",
       "      <td>43.000000</td>\n",
       "      <td>41.000000</td>\n",
       "    </tr>\n",
       "  </tbody>\n",
       "</table>\n",
       "</div>"
      ],
      "text/plain": [
       "        pre_HAMD  post_HAMD\n",
       "count  14.000000  14.000000\n",
       "mean   28.428571  22.142857\n",
       "std     6.429670   7.901871\n",
       "min    22.000000  10.000000\n",
       "25%    24.000000  19.000000\n",
       "50%    26.500000  20.000000\n",
       "75%    29.000000  26.000000\n",
       "max    43.000000  41.000000"
      ]
     },
     "execution_count": 36,
     "metadata": {},
     "output_type": "execute_result"
    }
   ],
   "source": [
    "mst_df_nonan[['pre_HAMD', 'post_HAMD']].describe()"
   ]
  },
  {
   "cell_type": "markdown",
   "id": "0d2691cc",
   "metadata": {},
   "source": [
    "# Mutliple linear regression with combined data"
   ]
  },
  {
   "cell_type": "markdown",
   "id": "a381bc1a",
   "metadata": {},
   "source": [
    "## Exhaustive Search for Regression"
   ]
  },
  {
   "cell_type": "code",
   "execution_count": 37,
   "id": "7db5e9a5",
   "metadata": {},
   "outputs": [],
   "source": [
    "features = ['pre_exponent', \n",
    "            'pre_ch_delta_perc', 'pre_ch_theta_perc',\n",
    "            'diff_exponent',\n",
    "            'diff_ch_delta_perc', 'diff_ch_theta_perc', 'n_TxsReceived', 'treatment_type_ECT',\n",
    "            'std_HAMD_pre']"
   ]
  },
  {
   "cell_type": "code",
   "execution_count": 38,
   "id": "36315968",
   "metadata": {},
   "outputs": [],
   "source": [
    "ect_mst_clin_eeg_df['treatment_type_ECT'] = pd.get_dummies(ect_mst_clin_eeg_df['treatment_type'], dtype=float)['ECT'].values"
   ]
  },
  {
   "cell_type": "code",
   "execution_count": 39,
   "id": "e2177ab7",
   "metadata": {},
   "outputs": [
    {
     "name": "stderr",
     "output_type": "stream",
     "text": [
      "/var/folders/4y/9f495rs90mzcdsr_7wb6khh00000gp/T/ipykernel_2602/116426721.py:1: FutureWarning: In a future version of pandas all arguments of DataFrame.dropna will be keyword-only\n",
      "  nonan_df = ect_mst_clin_eeg_df.dropna('rows', how='any', subset=['std_HAMD_post', 'n_TxsReceived'])\n"
     ]
    }
   ],
   "source": [
    "nonan_df = ect_mst_clin_eeg_df.dropna('rows', how='any', subset=['std_HAMD_post', 'n_TxsReceived'])"
   ]
  },
  {
   "cell_type": "code",
   "execution_count": 40,
   "id": "da0599bf",
   "metadata": {},
   "outputs": [],
   "source": [
    "ect_mst_dict = {'data': nonan_df[features].values,\n",
    "                'target': nonan_df['std_HAMD_post'].values,\n",
    "                'target_names': ['std_HAMD_post'],\n",
    "                'feature_names': features}"
   ]
  },
  {
   "cell_type": "code",
   "execution_count": 42,
   "id": "abac180d",
   "metadata": {},
   "outputs": [
    {
     "name": "stderr",
     "output_type": "stream",
     "text": [
      "Features: 127/127"
     ]
    },
    {
     "name": "stdout",
     "output_type": "stream",
     "text": [
      "\n",
      "Best subset: (0, 7, 8)\n"
     ]
    }
   ],
   "source": [
    "X = ect_mst_dict['data']\n",
    "y = ect_mst_dict['target']\n",
    "\n",
    "lr = LinearRegression()\n",
    "\n",
    "efs = EFS(lr, \n",
    "          min_features=3,\n",
    "          max_features=9,\n",
    "          fixed_features=(7,8),\n",
    "          scoring='neg_mean_squared_error',\n",
    "          cv=10)\n",
    "\n",
    "efs.fit(X, y)\n",
    "\n",
    "print('Best MSE score: %.2f' % efs.best_score_ * (-1))\n",
    "print('Best subset:', efs.best_idx_)"
   ]
  },
  {
   "cell_type": "code",
   "execution_count": 43,
   "id": "981ce91c",
   "metadata": {},
   "outputs": [],
   "source": [
    "def adjust_r2(r2, num_examples, num_features):\n",
    "    coef = (num_examples - 1) / (num_examples - num_features - 1) \n",
    "    return 1 - (1 - r2) * coef"
   ]
  },
  {
   "cell_type": "code",
   "execution_count": 44,
   "id": "39e9f7fe",
   "metadata": {},
   "outputs": [],
   "source": [
    "for i in efs.subsets_:\n",
    "    efs.subsets_[i]['adjusted_avg_score'] = (\n",
    "        adjust_r2(r2=efs.subsets_[i]['avg_score'],\n",
    "                  num_examples=X.shape[0]/10,\n",
    "                  num_features=len(efs.subsets_[i]['feature_idx']))\n",
    "    )"
   ]
  },
  {
   "cell_type": "code",
   "execution_count": 45,
   "id": "03fb010f",
   "metadata": {},
   "outputs": [],
   "source": [
    "score = -99e10\n",
    "\n",
    "for i in efs.subsets_:\n",
    "    score = efs.subsets_[i]['adjusted_avg_score']\n",
    "    if ( efs.subsets_[i]['adjusted_avg_score'] == score and\n",
    "        len(efs.subsets_[i]['feature_idx']) < len(efs.best_idx_) )\\\n",
    "      or efs.subsets_[i]['adjusted_avg_score'] > score:\n",
    "        efs.best_idx_ = efs.subsets_[i]['feature_idx']"
   ]
  },
  {
   "cell_type": "code",
   "execution_count": 46,
   "id": "48e521d9",
   "metadata": {},
   "outputs": [
    {
     "name": "stdout",
     "output_type": "stream",
     "text": [
      "\n",
      "Best subset: (0, 7, 8)\n"
     ]
    }
   ],
   "source": [
    "print('Best adjusted R2 score: %.2f' % efs.best_score_ * (-1))\n",
    "print('Best subset:', efs.best_idx_)"
   ]
  },
  {
   "cell_type": "code",
   "execution_count": 47,
   "id": "5f2484b3",
   "metadata": {},
   "outputs": [
    {
     "name": "stdout",
     "output_type": "stream",
     "text": [
      "                            OLS Regression Results                            \n",
      "==============================================================================\n",
      "Dep. Variable:          std_HAMD_post   R-squared:                       0.127\n",
      "Model:                            OLS   Adj. R-squared:                  0.037\n",
      "Method:                 Least Squares   F-statistic:                     1.411\n",
      "Date:                Thu, 19 Oct 2023   Prob (F-statistic):              0.260\n",
      "Time:                        10:24:55   Log-Likelihood:                -44.578\n",
      "No. Observations:                  33   AIC:                             97.16\n",
      "Df Residuals:                      29   BIC:                             103.1\n",
      "Df Model:                           3                                         \n",
      "Covariance Type:            nonrobust                                         \n",
      "============================================================================================\n",
      "                               coef    std err          t      P>|t|      [0.025      0.975]\n",
      "--------------------------------------------------------------------------------------------\n",
      "Intercept                   -0.1694      0.248     -0.684      0.499      -0.676       0.337\n",
      "C(treatment_type)[T.MST]     0.3994      0.416      0.959      0.345      -0.452       1.251\n",
      "std_HAMD_pre                 0.2482      0.207      1.197      0.241      -0.176       0.672\n",
      "pre_exponent                 0.3003      0.186      1.613      0.118      -0.080       0.681\n",
      "==============================================================================\n",
      "Omnibus:                        7.605   Durbin-Watson:                   1.930\n",
      "Prob(Omnibus):                  0.022   Jarque-Bera (JB):                6.193\n",
      "Skew:                           1.010   Prob(JB):                       0.0452\n",
      "Kurtosis:                       3.654   Cond. No.                         3.27\n",
      "==============================================================================\n",
      "\n",
      "Notes:\n",
      "[1] Standard Errors assume that the covariance matrix of the errors is correctly specified.\n"
     ]
    }
   ],
   "source": [
    "# standardized beta coefficients \n",
    "features = ['std_HAMD_post', 'std_HAMD_pre', 'pre_exponent', 'treatment_type']\n",
    "\n",
    "# standardizing dataframe\n",
    "df_z = ect_mst_clin_eeg_df[features].dropna()\n",
    "df_z_2 = df_z.select_dtypes(include=np.number).apply(zscore)\n",
    "df_z_2['treatment_type'] = df_z['treatment_type']\n",
    "\n",
    "# multiple linear regression\n",
    "model = ols('std_HAMD_post ~ std_HAMD_pre + pre_exponent + C(treatment_type)', df_z_2).fit()\n",
    "print(model.summary())"
   ]
  },
  {
   "cell_type": "code",
   "execution_count": 48,
   "id": "9c60b209",
   "metadata": {},
   "outputs": [
    {
     "data": {
      "text/html": [
       "<table class=\"simpletable\">\n",
       "<caption>OLS Regression Results</caption>\n",
       "<tr>\n",
       "  <th>Dep. Variable:</th>      <td>std_HAMD_post</td>  <th>  R-squared:         </th> <td>   0.127</td>\n",
       "</tr>\n",
       "<tr>\n",
       "  <th>Model:</th>                   <td>OLS</td>       <th>  Adj. R-squared:    </th> <td>   0.037</td>\n",
       "</tr>\n",
       "<tr>\n",
       "  <th>Method:</th>             <td>Least Squares</td>  <th>  F-statistic:       </th> <td>   1.282</td>\n",
       "</tr>\n",
       "<tr>\n",
       "  <th>Date:</th>             <td>Thu, 19 Oct 2023</td> <th>  Prob (F-statistic):</th>  <td> 0.299</td> \n",
       "</tr>\n",
       "<tr>\n",
       "  <th>Time:</th>                 <td>10:24:56</td>     <th>  Log-Likelihood:    </th> <td> -44.578</td>\n",
       "</tr>\n",
       "<tr>\n",
       "  <th>No. Observations:</th>      <td>    33</td>      <th>  AIC:               </th> <td>   97.16</td>\n",
       "</tr>\n",
       "<tr>\n",
       "  <th>Df Residuals:</th>          <td>    29</td>      <th>  BIC:               </th> <td>   103.1</td>\n",
       "</tr>\n",
       "<tr>\n",
       "  <th>Df Model:</th>              <td>     3</td>      <th>                     </th>     <td> </td>   \n",
       "</tr>\n",
       "<tr>\n",
       "  <th>Covariance Type:</th>         <td>HC3</td>       <th>                     </th>     <td> </td>   \n",
       "</tr>\n",
       "</table>\n",
       "<table class=\"simpletable\">\n",
       "<tr>\n",
       "              <td></td>                <th>coef</th>     <th>std err</th>      <th>t</th>      <th>P>|t|</th>  <th>[0.025</th>    <th>0.975]</th>  \n",
       "</tr>\n",
       "<tr>\n",
       "  <th>Intercept</th>                <td>   -0.1694</td> <td>    0.301</td> <td>   -0.562</td> <td> 0.578</td> <td>   -0.786</td> <td>    0.447</td>\n",
       "</tr>\n",
       "<tr>\n",
       "  <th>C(treatment_type)[T.MST]</th> <td>    0.3994</td> <td>    0.514</td> <td>    0.777</td> <td> 0.444</td> <td>   -0.652</td> <td>    1.451</td>\n",
       "</tr>\n",
       "<tr>\n",
       "  <th>std_HAMD_pre</th>             <td>    0.2482</td> <td>    0.258</td> <td>    0.963</td> <td> 0.344</td> <td>   -0.279</td> <td>    0.775</td>\n",
       "</tr>\n",
       "<tr>\n",
       "  <th>pre_exponent</th>             <td>    0.3003</td> <td>    0.172</td> <td>    1.749</td> <td> 0.091</td> <td>   -0.051</td> <td>    0.651</td>\n",
       "</tr>\n",
       "</table>\n",
       "<table class=\"simpletable\">\n",
       "<tr>\n",
       "  <th>Omnibus:</th>       <td> 7.605</td> <th>  Durbin-Watson:     </th> <td>   1.930</td>\n",
       "</tr>\n",
       "<tr>\n",
       "  <th>Prob(Omnibus):</th> <td> 0.022</td> <th>  Jarque-Bera (JB):  </th> <td>   6.193</td>\n",
       "</tr>\n",
       "<tr>\n",
       "  <th>Skew:</th>          <td> 1.010</td> <th>  Prob(JB):          </th> <td>  0.0452</td>\n",
       "</tr>\n",
       "<tr>\n",
       "  <th>Kurtosis:</th>      <td> 3.654</td> <th>  Cond. No.          </th> <td>    3.27</td>\n",
       "</tr>\n",
       "</table><br/><br/>Notes:<br/>[1] Standard Errors are heteroscedasticity robust (HC3)"
      ],
      "text/plain": [
       "<class 'statsmodels.iolib.summary.Summary'>\n",
       "\"\"\"\n",
       "                            OLS Regression Results                            \n",
       "==============================================================================\n",
       "Dep. Variable:          std_HAMD_post   R-squared:                       0.127\n",
       "Model:                            OLS   Adj. R-squared:                  0.037\n",
       "Method:                 Least Squares   F-statistic:                     1.282\n",
       "Date:                Thu, 19 Oct 2023   Prob (F-statistic):              0.299\n",
       "Time:                        10:24:56   Log-Likelihood:                -44.578\n",
       "No. Observations:                  33   AIC:                             97.16\n",
       "Df Residuals:                      29   BIC:                             103.1\n",
       "Df Model:                           3                                         \n",
       "Covariance Type:                  HC3                                         \n",
       "============================================================================================\n",
       "                               coef    std err          t      P>|t|      [0.025      0.975]\n",
       "--------------------------------------------------------------------------------------------\n",
       "Intercept                   -0.1694      0.301     -0.562      0.578      -0.786       0.447\n",
       "C(treatment_type)[T.MST]     0.3994      0.514      0.777      0.444      -0.652       1.451\n",
       "std_HAMD_pre                 0.2482      0.258      0.963      0.344      -0.279       0.775\n",
       "pre_exponent                 0.3003      0.172      1.749      0.091      -0.051       0.651\n",
       "==============================================================================\n",
       "Omnibus:                        7.605   Durbin-Watson:                   1.930\n",
       "Prob(Omnibus):                  0.022   Jarque-Bera (JB):                6.193\n",
       "Skew:                           1.010   Prob(JB):                       0.0452\n",
       "Kurtosis:                       3.654   Cond. No.                         3.27\n",
       "==============================================================================\n",
       "\n",
       "Notes:\n",
       "[1] Standard Errors are heteroscedasticity robust (HC3)\n",
       "\"\"\""
      ]
     },
     "execution_count": 48,
     "metadata": {},
     "output_type": "execute_result"
    }
   ],
   "source": [
    "# Correcting for heteroskedasticity\n",
    "model.get_robustcov_results(cov_type='HC3').summary()"
   ]
  },
  {
   "cell_type": "code",
   "execution_count": 51,
   "id": "631a2f93",
   "metadata": {},
   "outputs": [
    {
     "name": "stdout",
     "output_type": "stream",
     "text": [
      "eval_env: 1\n"
     ]
    },
    {
     "data": {
      "image/png": "[encoded data removed]",
      "text/plain": [
       "<Figure size 432x288 with 1 Axes>"
      ]
     },
     "metadata": {
      "needs_background": "light"
     },
     "output_type": "display_data"
    }
   ],
   "source": [
    "_, coords = sm.graphics.plot_partregress(endog=\"std_HAMD_post\", exog_i=\"pre_exponent\", exog_others=[\"std_HAMD_pre\", 'C(treatment_type)'],\n",
    "                             data=ect_mst_clin_eeg_df_nonan, obs_labels=False, color='darkviolet', markersize=10, ret_coords=True);"
   ]
  },
  {
   "cell_type": "code",
   "execution_count": 52,
   "id": "5b0b880f",
   "metadata": {},
   "outputs": [],
   "source": [
    "# Extract coordinates from partial regression plot\n",
    "ect_mst_clin_eeg_df_nonan['coord_x'] = coords[0]\n",
    "ect_mst_clin_eeg_df_nonan['coord_y'] = coords[1]"
   ]
  },
  {
   "cell_type": "code",
   "execution_count": 55,
   "id": "1cb84746",
   "metadata": {
    "scrolled": false
   },
   "outputs": [
    {
     "data": {
      "image/png": "[encoded data removed]",
      "text/plain": [
       "<Figure size 576x432 with 1 Axes>"
      ]
     },
     "metadata": {
      "needs_background": "light"
     },
     "output_type": "display_data"
    }
   ],
   "source": [
    "color_dict = {'ECT':'orange',\n",
    "              'MST': 'royalblue'}\n",
    "fig,ax = plt.subplots(figsize=(8,6))\n",
    "sns.regplot(data=ect_mst_clin_eeg_df_nonan, x='coord_x', y='coord_y', color='seagreen', scatter=False)\n",
    "sns.scatterplot(data=ect_mst_clin_eeg_df_nonan, x='coord_x', y='coord_y', hue='treatment_type',\n",
    "                palette=color_dict, s=100)\n",
    "\n",
    "plt.xlabel('pre-treatment exponent \\n (residuals)', size=12)\n",
    "plt.ylabel('normalized post-treatment\\n HAMD (residuals)', size=12)\n",
    "ax.tick_params(axis='both', labelsize=20)\n",
    "plt.legend(title='', fontsize=12)\n",
    "sns.despine()\n",
    "plt.show()"
   ]
  },
  {
   "cell_type": "markdown",
   "id": "dbaa107d",
   "metadata": {},
   "source": [
    "# Supplemental Analyses \n",
    "### Difference in baseline exponent ECT & MST "
   ]
  },
  {
   "cell_type": "code",
   "execution_count": 56,
   "id": "edd2abec",
   "metadata": {},
   "outputs": [
    {
     "data": {
      "text/html": [
       "<div>\n",
       "<style scoped>\n",
       "    .dataframe tbody tr th:only-of-type {\n",
       "        vertical-align: middle;\n",
       "    }\n",
       "\n",
       "    .dataframe tbody tr th {\n",
       "        vertical-align: top;\n",
       "    }\n",
       "\n",
       "    .dataframe thead th {\n",
       "        text-align: right;\n",
       "    }\n",
       "</style>\n",
       "<table border=\"1\" class=\"dataframe\">\n",
       "  <thead>\n",
       "    <tr style=\"text-align: right;\">\n",
       "      <th></th>\n",
       "      <th>T</th>\n",
       "      <th>dof</th>\n",
       "      <th>alternative</th>\n",
       "      <th>p-val</th>\n",
       "      <th>CI95%</th>\n",
       "      <th>cohen-d</th>\n",
       "      <th>BF10</th>\n",
       "      <th>power</th>\n",
       "    </tr>\n",
       "  </thead>\n",
       "  <tbody>\n",
       "    <tr>\n",
       "      <th>T-test</th>\n",
       "      <td>1.711729</td>\n",
       "      <td>42</td>\n",
       "      <td>two-sided</td>\n",
       "      <td>0.094323</td>\n",
       "      <td>[-0.02, 0.22]</td>\n",
       "      <td>0.516106</td>\n",
       "      <td>0.951</td>\n",
       "      <td>0.387057</td>\n",
       "    </tr>\n",
       "  </tbody>\n",
       "</table>\n",
       "</div>"
      ],
      "text/plain": [
       "               T  dof alternative     p-val          CI95%   cohen-d   BF10  \\\n",
       "T-test  1.711729   42   two-sided  0.094323  [-0.02, 0.22]  0.516106  0.951   \n",
       "\n",
       "           power  \n",
       "T-test  0.387057  "
      ]
     },
     "execution_count": 56,
     "metadata": {},
     "output_type": "execute_result"
    }
   ],
   "source": [
    "ttest(mst_clin_eeg_df['pre_exponent'], ect_clin_eeg_df['pre_exponent'])"
   ]
  },
  {
   "cell_type": "code",
   "execution_count": 57,
   "id": "9a20a886",
   "metadata": {},
   "outputs": [
    {
     "name": "stdout",
     "output_type": "stream",
     "text": [
      "                     W      pval  normal\n",
      "pre_exponent  0.961918  0.528998    True\n",
      "                     W      pval  normal\n",
      "pre_exponent  0.971783  0.751975    True\n"
     ]
    }
   ],
   "source": [
    "print(normality(mst_clin_eeg_df['pre_exponent']))\n",
    "print(normality(ect_clin_eeg_df['pre_exponent']))"
   ]
  },
  {
   "cell_type": "code",
   "execution_count": 58,
   "id": "23f33c73",
   "metadata": {},
   "outputs": [
    {
     "data": {
      "text/plain": [
       "count    22.000000\n",
       "mean      0.978943\n",
       "std       0.182696\n",
       "min       0.632349\n",
       "25%       0.862424\n",
       "50%       0.956634\n",
       "75%       1.076650\n",
       "max       1.473953\n",
       "Name: pre_exponent, dtype: float64"
      ]
     },
     "execution_count": 58,
     "metadata": {},
     "output_type": "execute_result"
    }
   ],
   "source": [
    "mst_clin_eeg_df['pre_exponent'].describe()"
   ]
  },
  {
   "cell_type": "code",
   "execution_count": 59,
   "id": "6da053ef",
   "metadata": {},
   "outputs": [
    {
     "data": {
      "text/plain": [
       "count    22.000000\n",
       "mean      0.877277\n",
       "std       0.210306\n",
       "min       0.427745\n",
       "25%       0.744020\n",
       "50%       0.925695\n",
       "75%       0.999571\n",
       "max       1.291168\n",
       "Name: pre_exponent, dtype: float64"
      ]
     },
     "execution_count": 59,
     "metadata": {},
     "output_type": "execute_result"
    }
   ],
   "source": [
    "ect_clin_eeg_df['pre_exponent'].describe()"
   ]
  },
  {
   "cell_type": "code",
   "execution_count": 60,
   "id": "8f9f41c7",
   "metadata": {},
   "outputs": [
    {
     "data": {
      "text/plain": [
       "Text(0.5, 0, 'baseline exponent')"
      ]
     },
     "execution_count": 60,
     "metadata": {},
     "output_type": "execute_result"
    },
    {
     "data": {
      "image/png": "[encoded data removed]",
      "text/plain": [
       "<Figure size 432x288 with 1 Axes>"
      ]
     },
     "metadata": {
      "needs_background": "light"
     },
     "output_type": "display_data"
    }
   ],
   "source": [
    "sns.set_context('notebook')\n",
    "color_dict = {'ECT':'orange',\n",
    "              'MST': 'royalblue'}\n",
    "\n",
    "plt.figure(figsize=[6,4])\n",
    "sns.histplot(ect_mst_clin_eeg_df, x='pre_exponent', hue='treatment_type', palette=color_dict)\n",
    "sns.despine()\n",
    "plt.xlabel('baseline exponent')"
   ]
  },
  {
   "cell_type": "markdown",
   "id": "96f3f505",
   "metadata": {},
   "source": [
    "### Relationship between difference in exponent and number of treatments received\n",
    "\n",
    "**ECT**"
   ]
  },
  {
   "cell_type": "code",
   "execution_count": 61,
   "id": "c29169d4",
   "metadata": {},
   "outputs": [
    {
     "name": "stderr",
     "output_type": "stream",
     "text": [
      "/Applications/anaconda3/envs/ECT_Hadas/lib/python3.9/site-packages/seaborn/_decorators.py:36: FutureWarning: Pass the following variables as keyword args: x, y. From version 0.12, the only valid positional argument will be `data`, and passing other arguments without an explicit keyword will result in an error or misinterpretation.\n",
      "  warnings.warn(\n"
     ]
    },
    {
     "data": {
      "text/plain": [
       "Text(11.25, 0.5, '$\\\\Delta$ exponent')"
      ]
     },
     "execution_count": 61,
     "metadata": {},
     "output_type": "execute_result"
    },
    {
     "data": {
      "image/png": "[encoded data removed]",
      "text/plain": [
       "<Figure size 432x432 with 3 Axes>"
      ]
     },
     "metadata": {
      "needs_background": "light"
     },
     "output_type": "display_data"
    }
   ],
   "source": [
    "sns.set_context('talk')\n",
    "\n",
    "x = ect_clin_eeg_df['n_TxsReceived']\n",
    "y = ect_clin_eeg_df['diff_exponent']\n",
    "\n",
    "h = sns.jointplot(x, y, kind=\"reg\", color='orange')\n",
    "h.ax_joint.set_xlabel('# treatments received')\n",
    "h.ax_joint.set_ylabel('$\\Delta$ exponent')"
   ]
  },
  {
   "cell_type": "code",
   "execution_count": 62,
   "id": "f4dc39c5",
   "metadata": {},
   "outputs": [
    {
     "data": {
      "text/html": [
       "<div>\n",
       "<style scoped>\n",
       "    .dataframe tbody tr th:only-of-type {\n",
       "        vertical-align: middle;\n",
       "    }\n",
       "\n",
       "    .dataframe tbody tr th {\n",
       "        vertical-align: top;\n",
       "    }\n",
       "\n",
       "    .dataframe thead th {\n",
       "        text-align: right;\n",
       "    }\n",
       "</style>\n",
       "<table border=\"1\" class=\"dataframe\">\n",
       "  <thead>\n",
       "    <tr style=\"text-align: right;\">\n",
       "      <th></th>\n",
       "      <th>n</th>\n",
       "      <th>r</th>\n",
       "      <th>CI95%</th>\n",
       "      <th>p-val</th>\n",
       "      <th>BF10</th>\n",
       "      <th>power</th>\n",
       "    </tr>\n",
       "  </thead>\n",
       "  <tbody>\n",
       "    <tr>\n",
       "      <th>pearson</th>\n",
       "      <td>19</td>\n",
       "      <td>-0.536577</td>\n",
       "      <td>[-0.8, -0.11]</td>\n",
       "      <td>0.017858</td>\n",
       "      <td>3.865</td>\n",
       "      <td>0.688058</td>\n",
       "    </tr>\n",
       "  </tbody>\n",
       "</table>\n",
       "</div>"
      ],
      "text/plain": [
       "          n         r          CI95%     p-val   BF10     power\n",
       "pearson  19 -0.536577  [-0.8, -0.11]  0.017858  3.865  0.688058"
      ]
     },
     "execution_count": 62,
     "metadata": {},
     "output_type": "execute_result"
    }
   ],
   "source": [
    "corr(x,y)"
   ]
  },
  {
   "cell_type": "code",
   "execution_count": 63,
   "id": "fcccd440",
   "metadata": {},
   "outputs": [
    {
     "name": "stderr",
     "output_type": "stream",
     "text": [
      "/Applications/anaconda3/envs/ECT_Hadas/lib/python3.9/site-packages/seaborn/_decorators.py:36: FutureWarning: Pass the following variables as keyword args: x, y. From version 0.12, the only valid positional argument will be `data`, and passing other arguments without an explicit keyword will result in an error or misinterpretation.\n",
      "  warnings.warn(\n"
     ]
    },
    {
     "data": {
      "text/plain": [
       "Text(11.25, 0.5, '$\\\\Delta$ exponent')"
      ]
     },
     "execution_count": 63,
     "metadata": {},
     "output_type": "execute_result"
    },
    {
     "data": {
      "image/png": "[encoded data removed]",
      "text/plain": [
       "<Figure size 432x432 with 3 Axes>"
      ]
     },
     "metadata": {
      "needs_background": "light"
     },
     "output_type": "display_data"
    }
   ],
   "source": [
    "x = ect_clin_eeg_df['pre_exponent']\n",
    "y = ect_clin_eeg_df['diff_exponent']\n",
    "\n",
    "h = sns.jointplot(x, y, kind=\"reg\", color='orange')\n",
    "h.ax_joint.set_xlabel('baseline exponent')\n",
    "h.ax_joint.set_ylabel('$\\Delta$ exponent')"
   ]
  },
  {
   "cell_type": "code",
   "execution_count": 64,
   "id": "bfdd4cdf",
   "metadata": {},
   "outputs": [
    {
     "data": {
      "text/html": [
       "<div>\n",
       "<style scoped>\n",
       "    .dataframe tbody tr th:only-of-type {\n",
       "        vertical-align: middle;\n",
       "    }\n",
       "\n",
       "    .dataframe tbody tr th {\n",
       "        vertical-align: top;\n",
       "    }\n",
       "\n",
       "    .dataframe thead th {\n",
       "        text-align: right;\n",
       "    }\n",
       "</style>\n",
       "<table border=\"1\" class=\"dataframe\">\n",
       "  <thead>\n",
       "    <tr style=\"text-align: right;\">\n",
       "      <th></th>\n",
       "      <th>n</th>\n",
       "      <th>r</th>\n",
       "      <th>CI95%</th>\n",
       "      <th>p-val</th>\n",
       "      <th>BF10</th>\n",
       "      <th>power</th>\n",
       "    </tr>\n",
       "  </thead>\n",
       "  <tbody>\n",
       "    <tr>\n",
       "      <th>pearson</th>\n",
       "      <td>22</td>\n",
       "      <td>0.108111</td>\n",
       "      <td>[-0.33, 0.51]</td>\n",
       "      <td>0.632015</td>\n",
       "      <td>0.294</td>\n",
       "      <td>0.076375</td>\n",
       "    </tr>\n",
       "  </tbody>\n",
       "</table>\n",
       "</div>"
      ],
      "text/plain": [
       "          n         r          CI95%     p-val   BF10     power\n",
       "pearson  22  0.108111  [-0.33, 0.51]  0.632015  0.294  0.076375"
      ]
     },
     "execution_count": 64,
     "metadata": {},
     "output_type": "execute_result"
    }
   ],
   "source": [
    "corr(x,y)"
   ]
  },
  {
   "cell_type": "markdown",
   "id": "18e44cf0",
   "metadata": {},
   "source": [
    "**MST**"
   ]
  },
  {
   "cell_type": "code",
   "execution_count": 65,
   "id": "75711c50",
   "metadata": {},
   "outputs": [
    {
     "name": "stderr",
     "output_type": "stream",
     "text": [
      "/Applications/anaconda3/envs/ECT_Hadas/lib/python3.9/site-packages/seaborn/_decorators.py:36: FutureWarning: Pass the following variables as keyword args: x, y. From version 0.12, the only valid positional argument will be `data`, and passing other arguments without an explicit keyword will result in an error or misinterpretation.\n",
      "  warnings.warn(\n"
     ]
    },
    {
     "data": {
      "text/plain": [
       "Text(11.25, 0.5, '$\\\\Delta$ exponent')"
      ]
     },
     "execution_count": 65,
     "metadata": {},
     "output_type": "execute_result"
    },
    {
     "data": {
      "image/png": "[encoded data removed]",
      "text/plain": [
       "<Figure size 432x432 with 3 Axes>"
      ]
     },
     "metadata": {
      "needs_background": "light"
     },
     "output_type": "display_data"
    }
   ],
   "source": [
    "x = mst_clin_eeg_df['n_TxsReceived']\n",
    "y = mst_clin_eeg_df['diff_exponent']\n",
    "\n",
    "h = sns.jointplot(x, y, kind=\"reg\", color='royalblue')\n",
    "h.ax_joint.set_xlabel('# treatments received')\n",
    "h.ax_joint.set_ylabel('$\\Delta$ exponent')"
   ]
  },
  {
   "cell_type": "code",
   "execution_count": 66,
   "id": "f0424a73",
   "metadata": {},
   "outputs": [
    {
     "data": {
      "text/html": [
       "<div>\n",
       "<style scoped>\n",
       "    .dataframe tbody tr th:only-of-type {\n",
       "        vertical-align: middle;\n",
       "    }\n",
       "\n",
       "    .dataframe tbody tr th {\n",
       "        vertical-align: top;\n",
       "    }\n",
       "\n",
       "    .dataframe thead th {\n",
       "        text-align: right;\n",
       "    }\n",
       "</style>\n",
       "<table border=\"1\" class=\"dataframe\">\n",
       "  <thead>\n",
       "    <tr style=\"text-align: right;\">\n",
       "      <th></th>\n",
       "      <th>n</th>\n",
       "      <th>r</th>\n",
       "      <th>CI95%</th>\n",
       "      <th>p-val</th>\n",
       "      <th>BF10</th>\n",
       "      <th>power</th>\n",
       "    </tr>\n",
       "  </thead>\n",
       "  <tbody>\n",
       "    <tr>\n",
       "      <th>pearson</th>\n",
       "      <td>22</td>\n",
       "      <td>0.035919</td>\n",
       "      <td>[-0.39, 0.45]</td>\n",
       "      <td>0.873913</td>\n",
       "      <td>0.267</td>\n",
       "      <td>0.052245</td>\n",
       "    </tr>\n",
       "  </tbody>\n",
       "</table>\n",
       "</div>"
      ],
      "text/plain": [
       "          n         r          CI95%     p-val   BF10     power\n",
       "pearson  22  0.035919  [-0.39, 0.45]  0.873913  0.267  0.052245"
      ]
     },
     "execution_count": 66,
     "metadata": {},
     "output_type": "execute_result"
    }
   ],
   "source": [
    "corr(x,y)"
   ]
  },
  {
   "cell_type": "code",
   "execution_count": 67,
   "id": "bc10f46c",
   "metadata": {},
   "outputs": [
    {
     "name": "stderr",
     "output_type": "stream",
     "text": [
      "/Applications/anaconda3/envs/ECT_Hadas/lib/python3.9/site-packages/seaborn/_decorators.py:36: FutureWarning: Pass the following variables as keyword args: x, y. From version 0.12, the only valid positional argument will be `data`, and passing other arguments without an explicit keyword will result in an error or misinterpretation.\n",
      "  warnings.warn(\n"
     ]
    },
    {
     "data": {
      "text/plain": [
       "Text(11.25, 0.5, '$\\\\Delta$ exponent')"
      ]
     },
     "execution_count": 67,
     "metadata": {},
     "output_type": "execute_result"
    },
    {
     "data": {
      "image/png": "[encoded data removed]",
      "text/plain": [
       "<Figure size 432x432 with 3 Axes>"
      ]
     },
     "metadata": {
      "needs_background": "light"
     },
     "output_type": "display_data"
    }
   ],
   "source": [
    "x = mst_clin_eeg_df['pre_exponent']\n",
    "y = mst_clin_eeg_df['diff_exponent']\n",
    "\n",
    "h = sns.jointplot(x, y, kind=\"reg\", color='royalblue')\n",
    "h.ax_joint.set_xlabel('baseline exponent')\n",
    "h.ax_joint.set_ylabel('$\\Delta$ exponent')"
   ]
  },
  {
   "cell_type": "code",
   "execution_count": 68,
   "id": "bac01845",
   "metadata": {},
   "outputs": [
    {
     "data": {
      "text/html": [
       "<div>\n",
       "<style scoped>\n",
       "    .dataframe tbody tr th:only-of-type {\n",
       "        vertical-align: middle;\n",
       "    }\n",
       "\n",
       "    .dataframe tbody tr th {\n",
       "        vertical-align: top;\n",
       "    }\n",
       "\n",
       "    .dataframe thead th {\n",
       "        text-align: right;\n",
       "    }\n",
       "</style>\n",
       "<table border=\"1\" class=\"dataframe\">\n",
       "  <thead>\n",
       "    <tr style=\"text-align: right;\">\n",
       "      <th></th>\n",
       "      <th>n</th>\n",
       "      <th>r</th>\n",
       "      <th>CI95%</th>\n",
       "      <th>p-val</th>\n",
       "      <th>BF10</th>\n",
       "      <th>power</th>\n",
       "    </tr>\n",
       "  </thead>\n",
       "  <tbody>\n",
       "    <tr>\n",
       "      <th>pearson</th>\n",
       "      <td>22</td>\n",
       "      <td>0.514236</td>\n",
       "      <td>[0.12, 0.77]</td>\n",
       "      <td>0.014348</td>\n",
       "      <td>4.413</td>\n",
       "      <td>0.714121</td>\n",
       "    </tr>\n",
       "  </tbody>\n",
       "</table>\n",
       "</div>"
      ],
      "text/plain": [
       "          n         r         CI95%     p-val   BF10     power\n",
       "pearson  22  0.514236  [0.12, 0.77]  0.014348  4.413  0.714121"
      ]
     },
     "execution_count": 68,
     "metadata": {},
     "output_type": "execute_result"
    }
   ],
   "source": [
    "corr(x,y)"
   ]
  },
  {
   "cell_type": "code",
   "execution_count": null,
   "id": "dca83610",
   "metadata": {},
   "outputs": [],
   "source": []
  }
 ],
 "metadata": {
  "kernelspec": {
   "display_name": "Python 3 (ipykernel)",
   "language": "python",
   "name": "python3"
  },
  "language_info": {
   "codemirror_mode": {
    "name": "ipython",
    "version": 3
   },
   "file_extension": ".py",
   "mimetype": "text/x-python",
   "name": "python",
   "nbconvert_exporter": "python",
   "pygments_lexer": "ipython3",
   "version": "3.9.7"
  }
 },
 "nbformat": 4,
 "nbformat_minor": 5
}
