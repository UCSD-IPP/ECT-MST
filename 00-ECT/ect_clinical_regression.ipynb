{
 "cells": [
  {
   "cell_type": "code",
   "execution_count": null,
   "id": "290f680c",
   "metadata": {},
   "outputs": [],
   "source": [
    "# Clinical Regression for ECT data"
   ]
  },
  {
   "cell_type": "code",
   "execution_count": null,
   "id": "0422ce5f",
   "metadata": {},
   "outputs": [],
   "source": [
    "import numpy as np\n",
    "import pandas as pd\n",
    "import seaborn as sns\n",
    "import matplotlib.pyplot as plt\n",
    "\n",
    "import scipy\n",
    "from statsmodels.formula.api import ols\n",
    "from scipy.stats import ttest_rel\n",
    "from pingouin import ttest, normality, wilcoxon\n",
    "\n",
    "from mst_plotting_functions import plot_feature_prepost\n",
    "from matplotlib import rcParams\n",
    "rcParams['font.family'] = 'Helvetica'"
   ]
  },
  {
   "cell_type": "code",
   "execution_count": null,
   "id": "5c249430",
   "metadata": {},
   "outputs": [],
   "source": [
    "# load dataframe\n",
    "exp_df = pd.read_csv('../saved_files_appeal/mst_files/mst_all_features.csv', index_col = 0)\n",
    "\n",
    "# Exclude channels from ppn's with bad fits\n",
    "exp_df_included = exp_df[exp_df['exclude']==False]"
   ]
  }
 ],
 "metadata": {
  "kernelspec": {
   "display_name": "Python 3 (ipykernel)",
   "language": "python",
   "name": "python3"
  },
  "language_info": {
   "codemirror_mode": {
    "name": "ipython",
    "version": 3
   },
   "file_extension": ".py",
   "mimetype": "text/x-python",
   "name": "python",
   "nbconvert_exporter": "python",
   "pygments_lexer": "ipython3",
   "version": "3.9.7"
  }
 },
 "nbformat": 4,
 "nbformat_minor": 5
}
