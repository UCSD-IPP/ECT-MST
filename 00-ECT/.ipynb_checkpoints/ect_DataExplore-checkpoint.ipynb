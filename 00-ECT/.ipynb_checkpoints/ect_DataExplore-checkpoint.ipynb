{
 "cells": [
  {
   "cell_type": "markdown",
   "metadata": {},
   "source": [
    "# Spectral Parameterization - Hill et al., 2020"
   ]
  },
  {
   "cell_type": "markdown",
   "metadata": {},
   "source": [
    "### imports & load data"
   ]
  },
  {
   "cell_type": "code",
   "execution_count": 4,
   "metadata": {},
   "outputs": [],
   "source": [
    "import os\n",
    "\n",
    "import numpy as np\n",
    "import scipy as sp\n",
    "import matplotlib.pyplot as plt\n",
    "import seaborn as sns\n",
    "import pandas as pd\n",
    "\n",
    "#import mne\n",
    "#import neurodsp\n",
    "import fooof\n",
    "from fooof import FOOOFGroup\n",
    "from fooof import FOOOF\n",
    "from fooof.bands import Bands\n",
    "from fooof.objs.utils import average_fg\n",
    "from fooof.analysis import get_band_peak_fg\n",
    "from fooof.utils import trim_spectrum\n",
    "# Import functions to examine frequency-by-frequency error of model fits\n",
    "from fooof.analysis.error import compute_pointwise_error_fm, compute_pointwise_error_fg"
   ]
  },
  {
   "cell_type": "code",
   "execution_count": 5,
   "metadata": {},
   "outputs": [],
   "source": [
    "%matplotlib inline"
   ]
  },
  {
   "cell_type": "markdown",
   "metadata": {},
   "source": [
    "### Single subject ECT specparam demo"
   ]
  },
  {
   "cell_type": "code",
   "execution_count": null,
   "metadata": {},
   "outputs": [],
   "source": [
    "# pre_path = '../ECT004_PRE_EC_clean.set'\n",
    "# post_path = '../ECT004_POST_EC_clean.set'\n",
    "\n",
    "pre_path = '../../DATA/ECT_rest/ECT004_PRE_EC_clean.set'\n",
    "post_path = '../../DATA/ECT_rest/ECT004_POST_EC_clean.set'"
   ]
  },
  {
   "cell_type": "code",
   "execution_count": null,
   "metadata": {
    "scrolled": true
   },
   "outputs": [],
   "source": [
    "eeg_pre = mne.io.read_epochs_eeglab(pre_path);\n",
    "eeg_post = mne.io.read_epochs_eeglab(post_path);"
   ]
  },
  {
   "cell_type": "code",
   "execution_count": null,
   "metadata": {},
   "outputs": [],
   "source": [
    "channels = eeg_pre.info['ch_names']"
   ]
  },
  {
   "cell_type": "markdown",
   "metadata": {},
   "source": [
    "### plot power spectra"
   ]
  },
  {
   "cell_type": "code",
   "execution_count": null,
   "metadata": {},
   "outputs": [],
   "source": [
    "eeg_pre.plot_psd(fmax=50);"
   ]
  },
  {
   "cell_type": "code",
   "execution_count": null,
   "metadata": {},
   "outputs": [],
   "source": [
    "eeg_post.plot_psd(fmax=50);"
   ]
  },
  {
   "cell_type": "markdown",
   "metadata": {},
   "source": [
    "### compute PSDs"
   ]
  },
  {
   "cell_type": "code",
   "execution_count": null,
   "metadata": {},
   "outputs": [],
   "source": [
    "psds, freqs = mne.time_frequency.psd_welch(eeg_pre, fmin=0, fmax=100, tmin=None, tmax=None, \n",
    "                                           n_fft=2000, n_overlap=0, n_per_seg=None, picks=None, proj=False, \n",
    "                                           n_jobs=1, reject_by_annotation=True, average='mean', window='hamming', \n",
    "                                           verbose=None)\n",
    "psds_post, freqs_post = mne.time_frequency.psd_welch(eeg_post, fmin=0, fmax=100, tmin=None, tmax=None, \n",
    "                                                     n_fft=2000, n_overlap=0, n_per_seg=None, picks=None, \n",
    "                                                     proj=False, n_jobs=1, reject_by_annotation=True, \n",
    "                                                     average='mean', window='hamming', verbose=None)"
   ]
  },
  {
   "cell_type": "markdown",
   "metadata": {},
   "source": [
    "### SpecParam Group results"
   ]
  },
  {
   "cell_type": "code",
   "execution_count": null,
   "metadata": {},
   "outputs": [],
   "source": [
    "fg_pre = FOOOFGroup(peak_width_limits=[1, 8], min_peak_height=0.05, max_n_peaks=6)\n",
    "fg_post = FOOOFGroup(peak_width_limits=[1, 8], min_peak_height=0.05, max_n_peaks=6)\n",
    "\n",
    "fg_pre.fit(freqs, psds[:,1,:], freq_range = [2,30])\n",
    "fg_post.fit(freqs_post, psds_post[:,1,:], freq_range=[2,30])"
   ]
  },
  {
   "cell_type": "code",
   "execution_count": null,
   "metadata": {},
   "outputs": [],
   "source": [
    "fg_pre.plot()"
   ]
  },
  {
   "cell_type": "code",
   "execution_count": null,
   "metadata": {},
   "outputs": [],
   "source": [
    "fg_post.plot()"
   ]
  },
  {
   "cell_type": "markdown",
   "metadata": {},
   "source": [
    "### Specparam results"
   ]
  },
  {
   "cell_type": "code",
   "execution_count": null,
   "metadata": {},
   "outputs": [],
   "source": [
    "fm = FOOOF(peak_width_limits=[1, 8], max_n_peaks=6, min_peak_height=0.2, \n",
    "           aperiodic_mode = \"fixed\")\n",
    "freq_range = [1, 30]\n",
    "fm.report(freqs, psds[:,0,:].mean(axis=0), freq_range)"
   ]
  },
  {
   "cell_type": "markdown",
   "metadata": {},
   "source": [
    "## 3. Full ECT dataset results"
   ]
  },
  {
   "cell_type": "code",
   "execution_count": null,
   "metadata": {},
   "outputs": [],
   "source": [
    "# big_dat_path = '/Volumes/VLABB/Itay_ECT_MST_rTMS_EEG/ECT_rest/' # Sydney with data on hard disk\n",
    "big_dat_path = '/Users/quirine/Documents/Projects/ECT/DATA/ECT_rest/'  # for Q absolute filepath to data\n",
    "\n",
    "len_channels_pre = []\n",
    "all_channels_pre = []\n",
    "\n",
    "len_channels_post = []\n",
    "all_channels_post = []\n",
    "\n",
    "all_patients = ['002', '003', '004', '010', '013', '016', '018', '019', '025', '029', \n",
    "                '031', '033', '034', '035', '038', '039', '040', '047', '048', '050', '053', '054', '055']\n",
    "n_patients = len(all_patients)\n",
    "\n",
    "post_psd = np.zeros((n_patients, 60, 201))\n",
    "pre_psd = np.zeros((n_patients, 60, 201))\n",
    "\n",
    "\n",
    "for count, patient in enumerate(all_patients):\n",
    "    \n",
    "    # create string that is the complete file name\n",
    "#     ECT002_POST_EC_clean.set <-- example of file name\n",
    "    file_name_post = 'ECT' + patient + \"_POST_EC_clean.set\"\n",
    "    file_name_pre = 'ECT' + patient + \"_PRE_EC_clean.set\"\n",
    "\n",
    "\n",
    "    # eeg data should look like [epochs, channels, timepoints]\n",
    "    eeg_data_epoched_post = mne.read_epochs_eeglab(big_dat_path + file_name_post)  \n",
    "    eeg_data_epoched_pre = mne.read_epochs_eeglab(big_dat_path + file_name_pre)\n",
    "    \n",
    "    # save channel name \n",
    "    len_channels_pre.append(len(eeg_data_epoched_pre.info['ch_names'])) # sanity check if there are 60 channels\n",
    "    all_channels_pre.append(eeg_data_epoched_pre.info['ch_names'])\n",
    "    \n",
    "    len_channels_post.append(len(eeg_data_epoched_post.info['ch_names'])) # sanity check if there are 60 channels\n",
    "    all_channels_post.append(eeg_data_epoched_post.info['ch_names'])\n",
    "    \n",
    "    # create psd's. psds.shape --> [n_epochs, 60 channels, 201 frequencies]\n",
    "    psds_post, freqs_post = mne.time_frequency.psd_welch(eeg_data_epoched_post, fmin=0, fmax=100, tmin=None, tmax=None, n_fft=2000,\n",
    "                                 n_overlap=0, n_per_seg=None, picks=None, proj=False, n_jobs=1,\n",
    "                                 reject_by_annotation=True, average='mean', window='hamming', verbose=None)\n",
    "    psds_pre, freqs_pre = mne.time_frequency.psd_welch(eeg_data_epoched_pre, fmin=0, fmax=100, tmin=None, tmax=None, n_fft=2000,\n",
    "                                 n_overlap=0, n_per_seg=None, picks=None, proj=False, n_jobs=1,\n",
    "                                 reject_by_annotation=True, average='mean', window='hamming', verbose=None)\n",
    "\n",
    "\n",
    "    # Averaging over epochs\n",
    "    post_psd[count, :, :] = psds_post.mean(axis=0)  # post_psd shape --> [patients, 60 channels, 201 frequencies]\n",
    "    pre_psd[count, :, :] = psds_pre.mean(axis=0)  # pre_psd shape --> [patients, 60 channels, 201 frequencies]\n",
    "    \n",
    "    \n"
   ]
  },
  {
   "cell_type": "code",
   "execution_count": 4,
   "metadata": {},
   "outputs": [
    {
     "ename": "NameError",
     "evalue": "name 'pre_psd' is not defined",
     "output_type": "error",
     "traceback": [
      "\u001b[0;31m---------------------------------------------------------------------------\u001b[0m",
      "\u001b[0;31mNameError\u001b[0m                                 Traceback (most recent call last)",
      "\u001b[0;32m/var/folders/96/g2_ml18s7v1cqm0wh8_8n5bh0000gn/T/ipykernel_11363/1870993264.py\u001b[0m in \u001b[0;36m<module>\u001b[0;34m\u001b[0m\n\u001b[1;32m      1\u001b[0m \u001b[0;31m# save pre and post_psd's as numpy\u001b[0m\u001b[0;34m\u001b[0m\u001b[0;34m\u001b[0m\u001b[0m\n\u001b[0;32m----> 2\u001b[0;31m \u001b[0mnp\u001b[0m\u001b[0;34m.\u001b[0m\u001b[0msave\u001b[0m\u001b[0;34m(\u001b[0m\u001b[0;34m'saved_files/pre_ect_psd.npy'\u001b[0m\u001b[0;34m,\u001b[0m \u001b[0mpre_psd\u001b[0m\u001b[0;34m)\u001b[0m\u001b[0;34m\u001b[0m\u001b[0;34m\u001b[0m\u001b[0m\n\u001b[0m\u001b[1;32m      3\u001b[0m \u001b[0mnp\u001b[0m\u001b[0;34m.\u001b[0m\u001b[0msave\u001b[0m\u001b[0;34m(\u001b[0m\u001b[0;34m'saved_files/post_ect_psd.npy'\u001b[0m\u001b[0;34m,\u001b[0m \u001b[0mpost_psd\u001b[0m\u001b[0;34m)\u001b[0m\u001b[0;34m\u001b[0m\u001b[0;34m\u001b[0m\u001b[0m\n\u001b[1;32m      4\u001b[0m \u001b[0mnp\u001b[0m\u001b[0;34m.\u001b[0m\u001b[0msave\u001b[0m\u001b[0;34m(\u001b[0m\u001b[0;34m'saved_files/freq_axis.npy'\u001b[0m\u001b[0;34m,\u001b[0m \u001b[0mfreqs_pre\u001b[0m\u001b[0;34m)\u001b[0m\u001b[0;34m\u001b[0m\u001b[0;34m\u001b[0m\u001b[0m\n",
      "\u001b[0;31mNameError\u001b[0m: name 'pre_psd' is not defined"
     ]
    }
   ],
   "source": [
    "# save pre and post_psd's as numpy\n",
    "np.save('saved_files/pre_ect_psd.npy', pre_psd)\n",
    "np.save('saved_files/post_ect_psd.npy', post_psd)\n",
    "np.save('saved_files/freq_axis.npy', freqs_pre)\n"
   ]
  },
  {
   "cell_type": "code",
   "execution_count": null,
   "metadata": {},
   "outputs": [],
   "source": [
    "# check if the channels are all the same for each patient\n",
    "# dubble checked and it's all the same :D\n",
    "\n",
    "channel_match_pre = []\n",
    "\n",
    "for count, ind in enumerate(all_channels_pre):\n",
    "    \n",
    "    channel_match_pre.append(np.sum(all_channels_pre[0] == all_channels_pre[count]))\n",
    "    \n",
    "# check if the channels are all the same for each patient\n",
    "\n",
    "channel_match_post = []\n",
    "\n",
    "for count, ind in enumerate(all_channels_post):\n",
    "    \n",
    "    channel_match_post.append(np.sum(all_channels_post[0] == all_channels_post[count]))"
   ]
  },
  {
   "cell_type": "markdown",
   "metadata": {},
   "source": [
    "## Loop da loop for fooof"
   ]
  },
  {
   "cell_type": "code",
   "execution_count": 6,
   "metadata": {},
   "outputs": [],
   "source": [
    "# load in data\n",
    "pre_psd = np.load('../saved_files/pre_ect_psd.npy')\n",
    "post_psd = np.load('../saved_files/post_ect_psd.npy')\n",
    "freqs = np.load('../saved_files/freq_axis.npy')"
   ]
  },
  {
   "cell_type": "code",
   "execution_count": 7,
   "metadata": {},
   "outputs": [],
   "source": [
    "# Fooof settings\n",
    "fg_pre = FOOOFGroup(peak_width_limits=[1, 8], min_peak_height=0.05, max_n_peaks=12,\n",
    "                   aperiodic_mode='fixed')\n",
    "fg_post = FOOOFGroup(peak_width_limits=[1, 8], min_peak_height=0.05, max_n_peaks=12,\n",
    "                    aperiodic_mode='fixed')\n",
    "\n",
    "freq_range = [1,50]"
   ]
  },
  {
   "cell_type": "code",
   "execution_count": 8,
   "metadata": {},
   "outputs": [],
   "source": [
    "# define frequency bands\n",
    "DELTA = [1,4]\n",
    "THETA = [4,7]\n",
    "ALPHA = [7,12]"
   ]
  },
  {
   "cell_type": "code",
   "execution_count": 9,
   "metadata": {},
   "outputs": [],
   "source": [
    "all_patients = ['002', '003', '004', '010', '013', '016', '018', '019', '025', '029', \n",
    "                '031', '033', '034', '035', '038', '039', '040', '047', '048', '050', '053', '054', '055']\n",
    "n_patients = len(all_patients)"
   ]
  },
  {
   "cell_type": "code",
   "execution_count": 10,
   "metadata": {},
   "outputs": [],
   "source": [
    "# tile patient and channel lists (to go into dictionaries)\n",
    "\n",
    "# shapes should all be (1380,)\n",
    "channels = np.tile(['FP1', 'FPZ', 'FP2', 'AF3', 'AF4', 'F7', 'F5', 'F3', 'F1', 'FZ', 'F2',\n",
    " 'F4', 'F6', 'F8', 'FT7', 'FC5', 'FC3', 'FC1', 'FCZ', 'FC2', 'FC4', 'FC6', 'FT8', 'T7',\n",
    " 'C5', 'C3', 'C1', 'CZ', 'C2', 'C4', 'C6', 'T8', 'TP7', 'CP5', 'CP3', 'CP1', 'CPZ', 'CP2',\n",
    " 'CP4', 'CP6', 'TP8', 'P7', 'P5', 'P3', 'P1', 'PZ', 'P2', 'P4', 'P6', 'P8', 'PO7', 'PO5',\n",
    " 'PO3', 'POZ', 'PO4', 'PO6', 'PO8', 'O1', 'OZ', 'O2'], n_patients)  # repeating this list for pre/post dictionaries\n",
    "patient_list = np.repeat(all_patients, 60) # 60 because len of channels, repeating this list for pre/post dictionaries\n",
    "\n",
    "pre_list = np.tile('pre', 60*23) # list of (1380,) pre's to add to dictionary\n",
    "post_list = np.tile('post', 60*23) # list of (1380,) post's to add to dictionary"
   ]
  },
  {
   "cell_type": "code",
   "execution_count": 11,
   "metadata": {},
   "outputs": [],
   "source": [
    "# Defining a function to get the cannonical power in a frequency band\n",
    "def get_band_pow(freqs, spectra, band):\n",
    "    \"\"\"get average power in frequency band in spectrum\n",
    "    Parameters\n",
    "    ----------\n",
    "    freqs : 1d array\n",
    "        Frequency values\n",
    "    spectra : 1d array\n",
    "        Power spectrum power values\n",
    "    band : list of [float, float]\n",
    "        Band definition\n",
    "    Returns\n",
    "    -------\n",
    "    band_pow : float\n",
    "        average power in band\n",
    "    \"\"\"\n",
    "    trim_freqs, trim_pows = trim_spectrum(freqs, spectra, f_range=band)\n",
    "    band_pow = np.mean(trim_pows, axis=1)\n",
    "    return band_pow"
   ]
  },
  {
   "cell_type": "code",
   "execution_count": 12,
   "metadata": {
    "scrolled": true
   },
   "outputs": [
    {
     "name": "stdout",
     "output_type": "stream",
     "text": [
      "Running FOOOFGroup across 60 power spectra.\n",
      "Running FOOOFGroup across 60 power spectra.\n",
      "Running FOOOFGroup across 60 power spectra.\n"
     ]
    },
    {
     "name": "stderr",
     "output_type": "stream",
     "text": [
      "/Users/quirine/opt/anaconda3/envs/ECT_Hadas/lib/python3.8/site-packages/fooof/objs/group.py:378: VisibleDeprecationWarning: Creating an ndarray from ragged nested sequences (which is a list-or-tuple of lists-or-tuples-or ndarrays with different lengths or shapes) is deprecated. If you meant to do this, you must specify 'dtype=object' when creating the ndarray.\n",
      "  out = np.array([np.insert(getattr(data, name), 3, index, axis=1)\n"
     ]
    },
    {
     "name": "stdout",
     "output_type": "stream",
     "text": [
      "Running FOOOFGroup across 60 power spectra.\n",
      "Running FOOOFGroup across 60 power spectra.\n",
      "Running FOOOFGroup across 60 power spectra.\n",
      "Running FOOOFGroup across 60 power spectra.\n",
      "Running FOOOFGroup across 60 power spectra.\n",
      "Running FOOOFGroup across 60 power spectra.\n",
      "Running FOOOFGroup across 60 power spectra.\n",
      "Running FOOOFGroup across 60 power spectra.\n",
      "Running FOOOFGroup across 60 power spectra.\n",
      "Running FOOOFGroup across 60 power spectra.\n",
      "Running FOOOFGroup across 60 power spectra.\n",
      "Running FOOOFGroup across 60 power spectra.\n",
      "Running FOOOFGroup across 60 power spectra.\n",
      "Running FOOOFGroup across 60 power spectra.\n",
      "Running FOOOFGroup across 60 power spectra.\n",
      "Running FOOOFGroup across 60 power spectra.\n",
      "Running FOOOFGroup across 60 power spectra.\n",
      "Running FOOOFGroup across 60 power spectra.\n",
      "Running FOOOFGroup across 60 power spectra.\n",
      "Running FOOOFGroup across 60 power spectra.\n",
      "Running FOOOFGroup across 60 power spectra.\n",
      "Running FOOOFGroup across 60 power spectra.\n",
      "Running FOOOFGroup across 60 power spectra.\n",
      "Running FOOOFGroup across 60 power spectra.\n",
      "Running FOOOFGroup across 60 power spectra.\n",
      "Running FOOOFGroup across 60 power spectra.\n",
      "Running FOOOFGroup across 60 power spectra.\n",
      "Running FOOOFGroup across 60 power spectra.\n",
      "Running FOOOFGroup across 60 power spectra.\n",
      "Running FOOOFGroup across 60 power spectra.\n",
      "Running FOOOFGroup across 60 power spectra.\n",
      "Running FOOOFGroup across 60 power spectra.\n",
      "Running FOOOFGroup across 60 power spectra.\n",
      "Running FOOOFGroup across 60 power spectra.\n",
      "Running FOOOFGroup across 60 power spectra.\n",
      "Running FOOOFGroup across 60 power spectra.\n",
      "Running FOOOFGroup across 60 power spectra.\n",
      "Running FOOOFGroup across 60 power spectra.\n",
      "Running FOOOFGroup across 60 power spectra.\n",
      "Running FOOOFGroup across 60 power spectra.\n",
      "Running FOOOFGroup across 60 power spectra.\n",
      "Running FOOOFGroup across 60 power spectra.\n",
      "Running FOOOFGroup across 60 power spectra.\n"
     ]
    }
   ],
   "source": [
    "delta_pre_amp = [] # Peak amplitude above aperiodic signal\n",
    "delta_pre_cf = [] # Center frequency\n",
    "delta_pre_bw = [] # Bandwidth\n",
    "delta_pre_bp = [] # Canonnical band power\n",
    "\n",
    "delta_post_amp = []\n",
    "delta_post_cf = []\n",
    "delta_post_bw = []\n",
    "delta_post_bp = []\n",
    "\n",
    "theta_pre_amp = []\n",
    "theta_pre_cf = []\n",
    "theta_pre_bw = []\n",
    "theta_pre_bp = []\n",
    "\n",
    "theta_post_amp = []\n",
    "theta_post_cf = []\n",
    "theta_post_bw = []\n",
    "theta_post_bp = []\n",
    "\n",
    "alpha_pre_amp = []\n",
    "alpha_pre_cf = []\n",
    "alpha_pre_bw = []\n",
    "alpha_pre_bp = []\n",
    "\n",
    "alpha_post_amp = []\n",
    "alpha_post_cf = []\n",
    "alpha_post_bw = []\n",
    "alpha_post_bp = []\n",
    "\n",
    "fits_pre = np.zeros((n_patients, 60, 99))\n",
    "fits_post = np.zeros((n_patients, 60, 99))\n",
    "\n",
    "offset_pre = []\n",
    "knee_pre = []\n",
    "exponent_pre = []\n",
    "\n",
    "offset_post = []\n",
    "knee_post = []\n",
    "exponent_post = []\n",
    "\n",
    "error_pre = []\n",
    "r_squared_pre = []\n",
    "\n",
    "error_post = []\n",
    "r_squared_post = []\n",
    "\n",
    "for count, patient in enumerate(all_patients):\n",
    "\n",
    "#     [patients, 60 channels, 201 frequencies]\n",
    "    fg_pre.fit(freqs, pre_psd[count,:,:], freq_range = freq_range, n_jobs=-1)\n",
    "    fg_post.fit(freqs, post_psd[count,:,:], freq_range = freq_range,  n_jobs=-1)\n",
    "    \n",
    "    periodic_delta_pre = get_band_peak_fg(fg_pre, DELTA)  # periodic params (amp, cf, bandwidth)\n",
    "    periodic_theta_pre = get_band_peak_fg(fg_pre, THETA)  # periodic params (amp, cf, bandwidth)\n",
    "    periodic_alpha_pre = get_band_peak_fg(fg_pre, ALPHA)  # periodic params (amp, cf, bandwidth)\n",
    "    \n",
    "    periodic_delta_post = get_band_peak_fg(fg_post, DELTA)  # periodic params (amp, cf, bandwidth)\n",
    "    periodic_theta_post = get_band_peak_fg(fg_post, THETA)  # periodic params (amp, cf, bandwidth)\n",
    "    periodic_alpha_post = get_band_peak_fg(fg_post, ALPHA)  # periodic params (amp, cf, bandwidth)\n",
    "    \n",
    "    aperiodic_pre = fg_pre.get_params('aperiodic_params')  # get the aperiodic 1/f properties (offset, knee, exp)\n",
    "    aperiodic_post = fg_post.get_params('aperiodic_params')  # get the aperiodic 1/f properties (offset, knee, exp)\n",
    "\n",
    "    all_errors_pre = fg_pre.get_params('error')\n",
    "    all_errors_post = fg_post.get_params('error')\n",
    "    \n",
    "    all_r_squared_pre = fg_pre.get_params('r_squared')\n",
    "    all_r_squared_post = fg_post.get_params('r_squared')    \n",
    "    \n",
    "    \n",
    "    \n",
    "    # Each variable as a list, store for each patient\n",
    "    delta_pre_cf = np.concatenate([delta_pre_cf, periodic_delta_pre[:,0]])\n",
    "    delta_pre_amp = np.concatenate([delta_pre_amp, periodic_delta_pre[:,1]])\n",
    "    delta_pre_bw = np.concatenate([delta_pre_bw, periodic_delta_pre[:,2]])\n",
    "    delta_pre_bp = np.concatenate([delta_pre_bp, np.log10(get_band_pow(freqs, pre_psd[count,:,:], DELTA))])\n",
    "    \n",
    "    delta_post_cf = np.concatenate([delta_post_cf, periodic_delta_post[:,0]])\n",
    "    delta_post_amp = np.concatenate([delta_post_amp, periodic_delta_post[:,1]])\n",
    "    delta_post_bw = np.concatenate([delta_post_bw, periodic_delta_post[:,2]])\n",
    "    delta_post_bp = np.concatenate([delta_post_bp, np.log10(get_band_pow(freqs, post_psd[count,:,:], DELTA))])\n",
    "    \n",
    "    theta_pre_cf = np.concatenate([theta_pre_cf, periodic_theta_pre[:,0]])\n",
    "    theta_pre_amp = np.concatenate([theta_pre_amp, periodic_theta_pre[:,1]])\n",
    "    theta_pre_bw = np.concatenate([theta_pre_bw, periodic_theta_pre[:,2]])\n",
    "    theta_pre_bp = np.concatenate([theta_pre_bp, np.log10(get_band_pow(freqs, pre_psd[count,:,:], THETA))])\n",
    "    \n",
    "    theta_post_cf = np.concatenate([theta_post_cf, periodic_theta_post[:,0]])\n",
    "    theta_post_amp = np.concatenate([theta_post_amp, periodic_theta_post[:,1]])\n",
    "    theta_post_bw = np.concatenate([theta_post_bw, periodic_theta_post[:,2]])\n",
    "    theta_post_bp = np.concatenate([theta_post_bp, np.log10(get_band_pow(freqs, post_psd[count,:,:], THETA))])\n",
    "    \n",
    "    alpha_pre_cf = np.concatenate([alpha_pre_cf, periodic_alpha_pre[:,0]])\n",
    "    alpha_pre_amp = np.concatenate([alpha_pre_amp, periodic_alpha_pre[:,1]])\n",
    "    alpha_pre_bw = np.concatenate([alpha_pre_bw, periodic_alpha_pre[:,2]])\n",
    "    alpha_pre_bp = np.concatenate([alpha_pre_bp, np.log10(get_band_pow(freqs, pre_psd[count,:,:], ALPHA))])\n",
    "    \n",
    "    alpha_post_cf = np.concatenate([alpha_post_cf, periodic_alpha_post[:,0]])\n",
    "    alpha_post_amp = np.concatenate([alpha_post_amp, periodic_alpha_post[:,1]])\n",
    "    alpha_post_bw = np.concatenate([alpha_post_bw, periodic_alpha_post[:,2]])\n",
    "    alpha_post_bp = np.concatenate([alpha_post_bp, np.log10(get_band_pow(freqs, post_psd[count,:,:], ALPHA))])\n",
    "    \n",
    "    offset_pre = np.concatenate([offset_pre, aperiodic_pre[:,0]])\n",
    "    #knee_pre = np.concatenate([knee_pre, aperiodic_pre[:,1]])\n",
    "    exponent_pre = np.concatenate([exponent_pre, aperiodic_pre[:,1]])\n",
    "    \n",
    "    offset_post = np.concatenate([offset_post, aperiodic_post[:,0]])\n",
    "    #knee_post = np.concatenate([knee_post, aperiodic_post[:,1]])\n",
    "    exponent_post = np.concatenate([exponent_post, aperiodic_post[:,1]])\n",
    "    \n",
    "    error_pre = np.concatenate([error_pre, all_errors_pre])\n",
    "    error_post = np.concatenate([error_post, all_errors_post])\n",
    "\n",
    "    r_squared_pre = np.concatenate([r_squared_pre, all_r_squared_pre])\n",
    "    r_squared_post = np.concatenate([r_squared_post, all_r_squared_post])\n",
    "    \n",
    "    for channel in np.arange(0,60):\n",
    "        fits_pre[count, channel, :] = fg_pre.get_fooof(channel).fooofed_spectrum_\n",
    "        fits_post[count, channel, :] = fg_post.get_fooof(channel).fooofed_spectrum_\n"
   ]
  },
  {
   "cell_type": "markdown",
   "metadata": {},
   "source": [
    "### Create dataframe"
   ]
  },
  {
   "cell_type": "code",
   "execution_count": 13,
   "metadata": {},
   "outputs": [],
   "source": [
    "# Add column to df for exclusions\n",
    "# Excluding all with low r_squared\n",
    "\n",
    "pre_exclude = r_squared_pre < 0.8\n",
    "post_exclude = r_squared_post < 0.8"
   ]
  },
  {
   "cell_type": "code",
   "execution_count": 14,
   "metadata": {},
   "outputs": [],
   "source": [
    "exclude_list = []\n",
    "\n",
    "for row in np.arange(0, len(pre_exclude)):\n",
    "    exclude_list.append(pre_exclude[row] or post_exclude[row])\n"
   ]
  },
  {
   "cell_type": "code",
   "execution_count": 15,
   "metadata": {},
   "outputs": [],
   "source": [
    "# create dictionary\n",
    "headers_list_pre = ['patient', 'pre_post', 'channel', 'delta_cf', 'delta_bw', 'delta_amp', 'delta_bp', \n",
    "                    'theta_cf', 'theta_bw', 'theta_amp', 'theta_bp', 'alpha_cf', 'alpha_bw', 'alpha_amp', \n",
    "                    'alpha_bp','offset', 'exponent', 'error', 'r_squared', 'exclude']\n",
    "headers_list_post = ['patient', 'pre_post', 'channel', 'delta_cf', 'delta_bw', 'delta_amp', 'delta_bp', \n",
    "                    'theta_cf', 'theta_bw', 'theta_amp', 'theta_bp', 'alpha_cf', 'alpha_bw', 'alpha_amp', \n",
    "                    'alpha_bp','offset', 'exponent', 'error', 'r_squared', 'exclude']\n",
    "variables_list_pre = [patient_list, pre_list, channels, delta_pre_cf, delta_pre_bw, delta_pre_amp, delta_pre_bp,\n",
    "                     theta_pre_cf, theta_pre_bw, theta_pre_amp, theta_pre_bp, alpha_pre_cf, alpha_pre_bw, alpha_pre_amp,\n",
    "                    alpha_pre_bp, offset_pre, exponent_pre, error_pre, r_squared_pre, exclude_list]\n",
    "variables_list_post = [patient_list, post_list, channels, delta_post_cf, delta_post_bw, delta_post_amp, delta_post_bp,\n",
    "                     theta_post_cf, theta_post_bw, theta_post_amp, theta_post_bp, alpha_post_cf, alpha_post_bw, \n",
    "                       alpha_post_amp, alpha_post_bp, offset_post, exponent_post, error_post, r_squared_post, exclude_list]\n",
    "\n",
    "exp_pre_dict = dict(zip(headers_list_pre, variables_list_pre))\n",
    "exp_post_dict = dict(zip(headers_list_post, variables_list_post))"
   ]
  },
  {
   "cell_type": "code",
   "execution_count": 16,
   "metadata": {},
   "outputs": [],
   "source": [
    "# save dictionary as pandas\n",
    "exp_pre_df = pd.DataFrame(exp_pre_dict)\n",
    "exp_post_df = pd.DataFrame(exp_post_dict)\n",
    "\n",
    "exp_df = pd.concat([exp_pre_df, exp_post_df], axis=0, ignore_index=True)"
   ]
  },
  {
   "cell_type": "markdown",
   "metadata": {},
   "source": [
    "## uncomment cell below to exclude ppn 2. However, now we want to see how the psd's change"
   ]
  },
  {
   "cell_type": "code",
   "execution_count": 20,
   "metadata": {},
   "outputs": [],
   "source": [
    "# exclude all from patient 002\n",
    "exp_df.loc[exp_df.patient=='002', 'exclude'] = True\n",
    "\n",
    "# save pandas df as csv\n",
    "exp_df.to_csv('../saved_files/all_features.csv') # <-- save without patient 002\n",
    "# exp_df.to_csv('../saved_files/all_features_with_002.csv') # <-- save with patient 002\n",
    "\n"
   ]
  },
  {
   "cell_type": "markdown",
   "metadata": {},
   "source": [
    "## Delete bad fits from fooof fits"
   ]
  },
  {
   "cell_type": "code",
   "execution_count": 2,
   "metadata": {},
   "outputs": [
    {
     "ename": "NameError",
     "evalue": "name 'np' is not defined",
     "output_type": "error",
     "traceback": [
      "\u001b[0;31m---------------------------------------------------------------------------\u001b[0m",
      "\u001b[0;31mNameError\u001b[0m                                 Traceback (most recent call last)",
      "\u001b[0;32m/var/folders/y7/q610k5y915x9bbdk7w61kb9c0000gn/T/ipykernel_57012/4223658346.py\u001b[0m in \u001b[0;36m<module>\u001b[0;34m\u001b[0m\n\u001b[1;32m      1\u001b[0m \u001b[0;31m# Save fooofed spectra\u001b[0m\u001b[0;34m\u001b[0m\u001b[0;34m\u001b[0m\u001b[0;34m\u001b[0m\u001b[0m\n\u001b[0;32m----> 2\u001b[0;31m \u001b[0mnp\u001b[0m\u001b[0;34m.\u001b[0m\u001b[0msave\u001b[0m\u001b[0;34m(\u001b[0m\u001b[0;34m'../saved_files/fits_pre'\u001b[0m\u001b[0;34m,\u001b[0m \u001b[0mfits_pre\u001b[0m\u001b[0;34m)\u001b[0m\u001b[0;34m\u001b[0m\u001b[0;34m\u001b[0m\u001b[0m\n\u001b[0m\u001b[1;32m      3\u001b[0m \u001b[0mnp\u001b[0m\u001b[0;34m.\u001b[0m\u001b[0msave\u001b[0m\u001b[0;34m(\u001b[0m\u001b[0;34m'../saved_files/fits_post'\u001b[0m\u001b[0;34m,\u001b[0m \u001b[0mfits_post\u001b[0m\u001b[0;34m)\u001b[0m\u001b[0;34m\u001b[0m\u001b[0;34m\u001b[0m\u001b[0m\n",
      "\u001b[0;31mNameError\u001b[0m: name 'np' is not defined"
     ]
    }
   ],
   "source": [
    "# Save fooofed spectra\n",
    "np.save('../saved_files/fits_pre', fits_pre)\n",
    "np.save('../saved_files/fits_post', fits_post)"
   ]
  },
  {
   "cell_type": "code",
   "execution_count": 33,
   "metadata": {},
   "outputs": [],
   "source": [
    "np.save?"
   ]
  },
  {
   "cell_type": "code",
   "execution_count": 23,
   "metadata": {},
   "outputs": [
    {
     "data": {
      "text/html": [
       "<div>\n",
       "<style scoped>\n",
       "    .dataframe tbody tr th:only-of-type {\n",
       "        vertical-align: middle;\n",
       "    }\n",
       "\n",
       "    .dataframe tbody tr th {\n",
       "        vertical-align: top;\n",
       "    }\n",
       "\n",
       "    .dataframe thead th {\n",
       "        text-align: right;\n",
       "    }\n",
       "</style>\n",
       "<table border=\"1\" class=\"dataframe\">\n",
       "  <thead>\n",
       "    <tr style=\"text-align: right;\">\n",
       "      <th></th>\n",
       "      <th>patient</th>\n",
       "      <th>pre_post</th>\n",
       "      <th>channel</th>\n",
       "      <th>delta_cf</th>\n",
       "      <th>delta_bw</th>\n",
       "      <th>delta_amp</th>\n",
       "      <th>delta_bp</th>\n",
       "      <th>theta_cf</th>\n",
       "      <th>theta_bw</th>\n",
       "      <th>theta_amp</th>\n",
       "      <th>theta_bp</th>\n",
       "      <th>offset</th>\n",
       "      <th>exponent</th>\n",
       "      <th>error</th>\n",
       "      <th>r_squared</th>\n",
       "      <th>exclude</th>\n",
       "    </tr>\n",
       "  </thead>\n",
       "  <tbody>\n",
       "    <tr>\n",
       "      <th>0</th>\n",
       "      <td>002</td>\n",
       "      <td>pre</td>\n",
       "      <td>FP1</td>\n",
       "      <td>NaN</td>\n",
       "      <td>NaN</td>\n",
       "      <td>NaN</td>\n",
       "      <td>-11.883438</td>\n",
       "      <td>NaN</td>\n",
       "      <td>NaN</td>\n",
       "      <td>NaN</td>\n",
       "      <td>-12.193017</td>\n",
       "      <td>-12.025028</td>\n",
       "      <td>0.153366</td>\n",
       "      <td>0.073338</td>\n",
       "      <td>0.719599</td>\n",
       "      <td>True</td>\n",
       "    </tr>\n",
       "    <tr>\n",
       "      <th>1</th>\n",
       "      <td>002</td>\n",
       "      <td>pre</td>\n",
       "      <td>FPZ</td>\n",
       "      <td>2.085984</td>\n",
       "      <td>1.206224</td>\n",
       "      <td>0.283620</td>\n",
       "      <td>-11.875942</td>\n",
       "      <td>NaN</td>\n",
       "      <td>NaN</td>\n",
       "      <td>NaN</td>\n",
       "      <td>-12.168866</td>\n",
       "      <td>-11.891345</td>\n",
       "      <td>0.397195</td>\n",
       "      <td>0.045420</td>\n",
       "      <td>0.949638</td>\n",
       "      <td>True</td>\n",
       "    </tr>\n",
       "    <tr>\n",
       "      <th>2</th>\n",
       "      <td>002</td>\n",
       "      <td>pre</td>\n",
       "      <td>FP2</td>\n",
       "      <td>NaN</td>\n",
       "      <td>NaN</td>\n",
       "      <td>NaN</td>\n",
       "      <td>-11.598289</td>\n",
       "      <td>NaN</td>\n",
       "      <td>NaN</td>\n",
       "      <td>NaN</td>\n",
       "      <td>-11.942038</td>\n",
       "      <td>-11.841505</td>\n",
       "      <td>-0.037439</td>\n",
       "      <td>0.079614</td>\n",
       "      <td>0.211648</td>\n",
       "      <td>True</td>\n",
       "    </tr>\n",
       "    <tr>\n",
       "      <th>3</th>\n",
       "      <td>002</td>\n",
       "      <td>pre</td>\n",
       "      <td>AF3</td>\n",
       "      <td>NaN</td>\n",
       "      <td>NaN</td>\n",
       "      <td>NaN</td>\n",
       "      <td>-11.786799</td>\n",
       "      <td>NaN</td>\n",
       "      <td>NaN</td>\n",
       "      <td>NaN</td>\n",
       "      <td>-12.177879</td>\n",
       "      <td>-12.189368</td>\n",
       "      <td>-0.241798</td>\n",
       "      <td>0.100209</td>\n",
       "      <td>0.367393</td>\n",
       "      <td>True</td>\n",
       "    </tr>\n",
       "    <tr>\n",
       "      <th>4</th>\n",
       "      <td>002</td>\n",
       "      <td>pre</td>\n",
       "      <td>AF4</td>\n",
       "      <td>2.083282</td>\n",
       "      <td>1.000000</td>\n",
       "      <td>0.257580</td>\n",
       "      <td>-11.981202</td>\n",
       "      <td>NaN</td>\n",
       "      <td>NaN</td>\n",
       "      <td>NaN</td>\n",
       "      <td>-12.186719</td>\n",
       "      <td>-12.001018</td>\n",
       "      <td>0.268764</td>\n",
       "      <td>0.043045</td>\n",
       "      <td>0.943406</td>\n",
       "      <td>True</td>\n",
       "    </tr>\n",
       "    <tr>\n",
       "      <th>...</th>\n",
       "      <td>...</td>\n",
       "      <td>...</td>\n",
       "      <td>...</td>\n",
       "      <td>...</td>\n",
       "      <td>...</td>\n",
       "      <td>...</td>\n",
       "      <td>...</td>\n",
       "      <td>...</td>\n",
       "      <td>...</td>\n",
       "      <td>...</td>\n",
       "      <td>...</td>\n",
       "      <td>...</td>\n",
       "      <td>...</td>\n",
       "      <td>...</td>\n",
       "      <td>...</td>\n",
       "      <td>...</td>\n",
       "    </tr>\n",
       "    <tr>\n",
       "      <th>2755</th>\n",
       "      <td>055</td>\n",
       "      <td>post</td>\n",
       "      <td>PO6</td>\n",
       "      <td>2.616116</td>\n",
       "      <td>1.000000</td>\n",
       "      <td>0.888075</td>\n",
       "      <td>-10.209693</td>\n",
       "      <td>4.957508</td>\n",
       "      <td>2.270189</td>\n",
       "      <td>0.900839</td>\n",
       "      <td>-10.588065</td>\n",
       "      <td>-10.103201</td>\n",
       "      <td>1.793646</td>\n",
       "      <td>0.064779</td>\n",
       "      <td>0.989225</td>\n",
       "      <td>False</td>\n",
       "    </tr>\n",
       "    <tr>\n",
       "      <th>2756</th>\n",
       "      <td>055</td>\n",
       "      <td>post</td>\n",
       "      <td>PO8</td>\n",
       "      <td>2.601222</td>\n",
       "      <td>1.000000</td>\n",
       "      <td>0.950725</td>\n",
       "      <td>-10.141359</td>\n",
       "      <td>4.967722</td>\n",
       "      <td>2.358468</td>\n",
       "      <td>0.985688</td>\n",
       "      <td>-10.519667</td>\n",
       "      <td>-10.072042</td>\n",
       "      <td>1.836391</td>\n",
       "      <td>0.061958</td>\n",
       "      <td>0.990530</td>\n",
       "      <td>False</td>\n",
       "    </tr>\n",
       "    <tr>\n",
       "      <th>2757</th>\n",
       "      <td>055</td>\n",
       "      <td>post</td>\n",
       "      <td>O1</td>\n",
       "      <td>2.563397</td>\n",
       "      <td>1.000000</td>\n",
       "      <td>0.944248</td>\n",
       "      <td>-10.186672</td>\n",
       "      <td>4.959658</td>\n",
       "      <td>2.332236</td>\n",
       "      <td>0.975873</td>\n",
       "      <td>-10.505549</td>\n",
       "      <td>-10.206633</td>\n",
       "      <td>1.603824</td>\n",
       "      <td>0.062689</td>\n",
       "      <td>0.989533</td>\n",
       "      <td>False</td>\n",
       "    </tr>\n",
       "    <tr>\n",
       "      <th>2758</th>\n",
       "      <td>055</td>\n",
       "      <td>post</td>\n",
       "      <td>OZ</td>\n",
       "      <td>2.558223</td>\n",
       "      <td>1.000000</td>\n",
       "      <td>0.943505</td>\n",
       "      <td>-10.240659</td>\n",
       "      <td>4.950479</td>\n",
       "      <td>2.315848</td>\n",
       "      <td>1.028183</td>\n",
       "      <td>-10.552531</td>\n",
       "      <td>-10.217346</td>\n",
       "      <td>1.721438</td>\n",
       "      <td>0.059736</td>\n",
       "      <td>0.990808</td>\n",
       "      <td>False</td>\n",
       "    </tr>\n",
       "    <tr>\n",
       "      <th>2759</th>\n",
       "      <td>055</td>\n",
       "      <td>post</td>\n",
       "      <td>O2</td>\n",
       "      <td>2.478656</td>\n",
       "      <td>1.093874</td>\n",
       "      <td>1.156963</td>\n",
       "      <td>-10.221954</td>\n",
       "      <td>4.985408</td>\n",
       "      <td>2.672655</td>\n",
       "      <td>1.091372</td>\n",
       "      <td>-10.551478</td>\n",
       "      <td>-10.524955</td>\n",
       "      <td>1.350406</td>\n",
       "      <td>0.054009</td>\n",
       "      <td>0.992918</td>\n",
       "      <td>False</td>\n",
       "    </tr>\n",
       "  </tbody>\n",
       "</table>\n",
       "<p>2760 rows × 16 columns</p>\n",
       "</div>"
      ],
      "text/plain": [
       "     patient pre_post channel  delta_cf  delta_bw  delta_amp   delta_bp  \\\n",
       "0        002      pre     FP1       NaN       NaN        NaN -11.883438   \n",
       "1        002      pre     FPZ  2.085984  1.206224   0.283620 -11.875942   \n",
       "2        002      pre     FP2       NaN       NaN        NaN -11.598289   \n",
       "3        002      pre     AF3       NaN       NaN        NaN -11.786799   \n",
       "4        002      pre     AF4  2.083282  1.000000   0.257580 -11.981202   \n",
       "...      ...      ...     ...       ...       ...        ...        ...   \n",
       "2755     055     post     PO6  2.616116  1.000000   0.888075 -10.209693   \n",
       "2756     055     post     PO8  2.601222  1.000000   0.950725 -10.141359   \n",
       "2757     055     post      O1  2.563397  1.000000   0.944248 -10.186672   \n",
       "2758     055     post      OZ  2.558223  1.000000   0.943505 -10.240659   \n",
       "2759     055     post      O2  2.478656  1.093874   1.156963 -10.221954   \n",
       "\n",
       "      theta_cf  theta_bw  theta_amp   theta_bp     offset  exponent     error  \\\n",
       "0          NaN       NaN        NaN -12.193017 -12.025028  0.153366  0.073338   \n",
       "1          NaN       NaN        NaN -12.168866 -11.891345  0.397195  0.045420   \n",
       "2          NaN       NaN        NaN -11.942038 -11.841505 -0.037439  0.079614   \n",
       "3          NaN       NaN        NaN -12.177879 -12.189368 -0.241798  0.100209   \n",
       "4          NaN       NaN        NaN -12.186719 -12.001018  0.268764  0.043045   \n",
       "...        ...       ...        ...        ...        ...       ...       ...   \n",
       "2755  4.957508  2.270189   0.900839 -10.588065 -10.103201  1.793646  0.064779   \n",
       "2756  4.967722  2.358468   0.985688 -10.519667 -10.072042  1.836391  0.061958   \n",
       "2757  4.959658  2.332236   0.975873 -10.505549 -10.206633  1.603824  0.062689   \n",
       "2758  4.950479  2.315848   1.028183 -10.552531 -10.217346  1.721438  0.059736   \n",
       "2759  4.985408  2.672655   1.091372 -10.551478 -10.524955  1.350406  0.054009   \n",
       "\n",
       "      r_squared  exclude  \n",
       "0      0.719599     True  \n",
       "1      0.949638     True  \n",
       "2      0.211648     True  \n",
       "3      0.367393     True  \n",
       "4      0.943406     True  \n",
       "...         ...      ...  \n",
       "2755   0.989225    False  \n",
       "2756   0.990530    False  \n",
       "2757   0.989533    False  \n",
       "2758   0.990808    False  \n",
       "2759   0.992918    False  \n",
       "\n",
       "[2760 rows x 16 columns]"
      ]
     },
     "execution_count": 23,
     "metadata": {},
     "output_type": "execute_result"
    }
   ],
   "source": [
    "exp_df"
   ]
  },
  {
   "cell_type": "code",
   "execution_count": 1,
   "metadata": {},
   "outputs": [
    {
     "ename": "NameError",
     "evalue": "name 'exp_df' is not defined",
     "output_type": "error",
     "traceback": [
      "\u001b[0;31m---------------------------------------------------------------------------\u001b[0m",
      "\u001b[0;31mNameError\u001b[0m                                 Traceback (most recent call last)",
      "\u001b[0;32m/var/folders/y7/q610k5y915x9bbdk7w61kb9c0000gn/T/ipykernel_57012/3204995463.py\u001b[0m in \u001b[0;36m<module>\u001b[0;34m\u001b[0m\n\u001b[0;32m----> 1\u001b[0;31m \u001b[0mexp_df\u001b[0m\u001b[0;34m[\u001b[0m\u001b[0;36m100\u001b[0m\u001b[0;34m]\u001b[0m\u001b[0;34m\u001b[0m\u001b[0;34m\u001b[0m\u001b[0m\n\u001b[0m",
      "\u001b[0;31mNameError\u001b[0m: name 'exp_df' is not defined"
     ]
    }
   ],
   "source": [
    "exp_df[100]"
   ]
  },
  {
   "cell_type": "code",
   "execution_count": null,
   "metadata": {},
   "outputs": [],
   "source": []
  }
 ],
 "metadata": {
  "kernelspec": {
   "display_name": "Python 3 (ipykernel)",
   "language": "python",
   "name": "python3"
  },
  "language_info": {
   "codemirror_mode": {
    "name": "ipython",
    "version": 3
   },
   "file_extension": ".py",
   "mimetype": "text/x-python",
   "name": "python",
   "nbconvert_exporter": "python",
   "pygments_lexer": "ipython3",
   "version": "3.8.11"
  }
 },
 "nbformat": 4,
 "nbformat_minor": 4
}
