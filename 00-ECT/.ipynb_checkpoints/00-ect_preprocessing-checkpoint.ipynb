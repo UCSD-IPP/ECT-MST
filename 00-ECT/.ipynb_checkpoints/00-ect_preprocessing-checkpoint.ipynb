{
 "cells": [
  {
   "cell_type": "code",
   "execution_count": 1,
   "id": "4d4df37a",
   "metadata": {},
   "outputs": [],
   "source": [
    "import os\n",
    "\n",
    "import numpy as np\n",
    "import scipy as sp\n",
    "import matplotlib.pyplot as plt\n",
    "import seaborn as sns\n",
    "import pandas as pd\n",
    "\n",
    "import mne\n",
    "from mne.preprocessing import ICA, create_eog_epochs\n",
    "import neurodsp"
   ]
  },
  {
   "cell_type": "code",
   "execution_count": 2,
   "id": "b5c665f0",
   "metadata": {},
   "outputs": [],
   "source": [
    "%matplotlib inline"
   ]
  },
  {
   "cell_type": "markdown",
   "id": "85ea6111",
   "metadata": {},
   "source": [
    "# Load un-preprocessed data"
   ]
  },
  {
   "cell_type": "code",
   "execution_count": null,
   "id": "efb916ec",
   "metadata": {},
   "outputs": [],
   "source": [
    "pre_path = '../../DATA/ECT_raw_restEEG/ECT004_PRE_EC_clean.set'\n",
    "post_path = '../../DATA/ECT_raw_restEEG/ECT004_POST_EC_clean.set'"
   ]
  },
  {
   "cell_type": "code",
   "execution_count": null,
   "id": "16910ea7",
   "metadata": {},
   "outputs": [],
   "source": []
  },
  {
   "cell_type": "code",
   "execution_count": null,
   "id": "37891790",
   "metadata": {},
   "outputs": [],
   "source": []
  },
  {
   "cell_type": "code",
   "execution_count": null,
   "id": "19a01657",
   "metadata": {},
   "outputs": [],
   "source": []
  }
 ],
 "metadata": {
  "kernelspec": {
   "display_name": "ECT_Hadas",
   "language": "python",
   "name": "ect_hadas"
  },
  "language_info": {
   "codemirror_mode": {
    "name": "ipython",
    "version": 3
   },
   "file_extension": ".py",
   "mimetype": "text/x-python",
   "name": "python",
   "nbconvert_exporter": "python",
   "pygments_lexer": "ipython3",
   "version": "3.8.11"
  }
 },
 "nbformat": 4,
 "nbformat_minor": 5
}
